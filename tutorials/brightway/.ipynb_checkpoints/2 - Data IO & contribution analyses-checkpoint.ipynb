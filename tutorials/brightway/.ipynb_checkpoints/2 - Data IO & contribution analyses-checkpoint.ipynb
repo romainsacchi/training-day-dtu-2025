{
 "cells": [
  {
   "cell_type": "markdown",
   "metadata": {},
   "source": [
    "<div>\n",
    "    <table>\n",
    "        <tr>\n",
    "            <td>\n",
    "                <center>\n",
    "                    <h1>Brightway Introduction</h1>\n",
    "                     <a href=\"https://www.psi.ch/en/ta/people/romain-sacchi\">Romain Sacchi</a> (PSI)\n",
    "                    <br><br>\n",
    "                    Duration: 1 hour 30 minutes.\n",
    "                </center>\n",
    "            </td>\n",
    "        </tr>\n",
    "    </div>\n",
    "\n",
    "# Brightway I/O: bw2io\n",
    "\n",
    "<div class=\"alert alert-info\">\n",
    "Note: we will be using <a href=\"https://docs.brightway.dev/en/legacy/\">Brightway 2</a>, not <a href=\"https://docs.brightway.dev/en/latest/content/installation/index.html\">Brightway 2.5</a>. From the user end side, very little differs between the two. The code executed throughout this notebook works with both versions.\n",
    "</div>\n"
   ]
  },
  {
   "cell_type": "markdown",
   "metadata": {},
   "source": [
    "## Learning objectives  \n",
    "\n",
    "Learn how to:\n",
    "\n",
    "    - input LCI data to Brightway using Excel/CVS importers\n",
    "    - fix linking issue using migration files\n",
    "    - do a contribution analysis\n",
    "    - export your foreground inventories"
   ]
  },
  {
   "cell_type": "markdown",
   "metadata": {},
   "source": [
    "## Standard inputs and setup"
   ]
  },
  {
   "cell_type": "code",
   "execution_count": null,
   "metadata": {},
   "outputs": [],
   "source": [
    "import os\n",
    "from pathlib import Path\n",
    "import pandas as pd\n",
    "import bw2io, bw2data, bw2calc"
   ]
  },
  {
   "cell_type": "markdown",
   "metadata": {},
   "source": [
    "Let's list our projects:"
   ]
  },
  {
   "cell_type": "code",
   "execution_count": null,
   "metadata": {},
   "outputs": [],
   "source": [
    "list(bw2data.projects)"
   ]
  },
  {
   "cell_type": "markdown",
   "metadata": {},
   "source": [
    "Setting the project"
   ]
  },
  {
   "cell_type": "code",
   "execution_count": null,
   "metadata": {},
   "outputs": [],
   "source": [
    "bw2data.projects.set_current(\"training-day\")"
   ]
  },
  {
   "cell_type": "markdown",
   "metadata": {},
   "source": [
    "## Context"
   ]
  },
  {
   "cell_type": "markdown",
   "metadata": {},
   "source": [
    "Performing an LCA generally requires:\n",
    "  - Background LCI data (e.g., an LCI database such as [ecoinvent](https://ecoinvent.org/))  \n",
    "  - Foreground LCI data (e.g., a bunch of datasets the LCA practitioner has spent time modeling)\n",
    "  - Sets of characterization factors.\n",
    " \n",
    "This section will deal with the way Foreground LCI data is input to Brightway."
   ]
  },
  {
   "cell_type": "markdown",
   "metadata": {},
   "source": [
    "Useful documentation about what a database in Brightway is can be found [here](https://github.com/brightway-lca/brightway2/blob/master/notebooks/Databases.ipynb)\n",
    " and [here](https://docs.brightway.dev/en/latest/content/gettingstarted/databases.html)."
   ]
  },
  {
   "cell_type": "markdown",
   "metadata": {},
   "source": [
    "# Importing from CSV or Excel"
   ]
  },
  {
   "cell_type": "markdown",
   "metadata": {},
   "source": [
    "Using `bw2io.ExcelImporter`, we import datasets from an Excel file."
   ]
  },
  {
   "cell_type": "code",
   "execution_count": null,
   "metadata": {},
   "outputs": [],
   "source": [
    "imp = bw2io.ExcelImporter(\"files/lci-carbon-fiber.xlsx\")"
   ]
  },
  {
   "cell_type": "markdown",
   "metadata": {},
   "source": [
    "We want to apply a number of data cleaning functions (format numbers, set correct location, etc.),"
   ]
  },
  {
   "cell_type": "code",
   "execution_count": null,
   "metadata": {},
   "outputs": [],
   "source": [
    "imp.apply_strategies()"
   ]
  },
  {
   "cell_type": "markdown",
   "metadata": {},
   "source": [
    "Then, we want to use the `match_database()` method to link exchanges to suppliers."
   ]
  },
  {
   "cell_type": "markdown",
   "metadata": {},
   "source": [
    "First, we want to link exchange to suppliers that may also be contained in the data being imported."
   ]
  },
  {
   "cell_type": "code",
   "execution_count": null,
   "metadata": {},
   "outputs": [],
   "source": [
    "# we match based on the name, reference product and location\n",
    "imp.match_database(fields=('name', 'reference product', 'unit', 'location')) "
   ]
  },
  {
   "cell_type": "markdown",
   "metadata": {},
   "source": [
    "<div class=\"alert alert-info\">\n",
    "Note: Why is it important to link both based on <b>name</b> and <b>reference product</b>?\n",
    "</div>"
   ]
  },
  {
   "cell_type": "markdown",
   "metadata": {},
   "source": [
    "Is that enough? Do we still have unlinked exchanges? Let's check."
   ]
  },
  {
   "cell_type": "code",
   "execution_count": null,
   "metadata": {},
   "outputs": [],
   "source": [
    "imp.statistics()"
   ]
  },
  {
   "cell_type": "markdown",
   "metadata": {},
   "source": [
    "Let's check what those unlinked exchanges are:"
   ]
  },
  {
   "cell_type": "code",
   "execution_count": null,
   "metadata": {},
   "outputs": [],
   "source": [
    "for u in list(imp.unlinked):\n",
    "    print(u[\"name\"], u.get(\"location\"), u.get(\"categories\"))"
   ]
  },
  {
   "cell_type": "markdown",
   "metadata": {},
   "source": [
    "OK, some unlinked exchanges are clearly from ecoinvent. Let's try to link those."
   ]
  },
  {
   "cell_type": "code",
   "execution_count": null,
   "metadata": {},
   "outputs": [],
   "source": [
    "imp.match_database(\"ecoinvent-3.10-cutoff\", fields=('name', 'reference product', 'unit', 'location'))\n",
    "imp.statistics()"
   ]
  },
  {
   "cell_type": "markdown",
   "metadata": {},
   "source": [
    "Depiste trying to link with ecoinvent, we still have two unmatched technosphere flows:"
   ]
  },
  {
   "cell_type": "code",
   "execution_count": null,
   "metadata": {},
   "outputs": [],
   "source": [
    "[u for u in imp.unlinked if u[\"type\"] == \"technosphere\"]"
   ]
  },
  {
   "cell_type": "markdown",
   "metadata": {},
   "source": [
    "Also, we have an unlinked biosphere exchange left, let's try to match that one."
   ]
  },
  {
   "cell_type": "code",
   "execution_count": null,
   "metadata": {},
   "outputs": [],
   "source": [
    "imp.match_database(\"biosphere\", fields=('name', 'unit', 'categories'))\n",
    "imp.statistics()"
   ]
  },
  {
   "cell_type": "code",
   "execution_count": null,
   "metadata": {},
   "outputs": [],
   "source": [
    "list(imp.unlinked)"
   ]
  },
  {
   "cell_type": "code",
   "execution_count": null,
   "metadata": {},
   "outputs": [],
   "source": [
    "[u for u in imp.unlinked if u[\"type\"] == \"biosphere\"]"
   ]
  },
  {
   "cell_type": "markdown",
   "metadata": {},
   "source": [
    "Nope. Why not? Maybe because `Argon-40` does not not exist as such in `biosphere?`"
   ]
  },
  {
   "cell_type": "code",
   "execution_count": null,
   "metadata": {},
   "outputs": [],
   "source": [
    "[f for f in bw2data.Database(\"biosphere\") if \"argon\" in f[\"name\"].lower()]"
   ]
  },
  {
   "cell_type": "markdown",
   "metadata": {},
   "source": [
    "It is indeed now simply called `Argon` in ecoinvent 3.10.\n",
    "We can:\n",
    "1. manually fix this (i.e., modify the exchange name in the Excel file),\n",
    "2. go over `imp.data`(list), iterate through the exchanges and find `Argon-40` and replace it with `Argon`\n",
    "3. create a `migration` file for translating ecoinvent 3.9 flows to 3.10"
   ]
  },
  {
   "cell_type": "markdown",
   "metadata": {},
   "source": [
    "### Migration file"
   ]
  },
  {
   "cell_type": "markdown",
   "metadata": {},
   "source": [
    "We create a mapping dictionary, and use it to create a `Migration` object."
   ]
  },
  {
   "cell_type": "code",
   "execution_count": null,
   "metadata": {},
   "outputs": [],
   "source": [
    "migration = {\n",
    "    \"fields\": [\"name\", \"reference product\", \"location\", \"categories\"],\n",
    "    \"data\": [\n",
    "        (\n",
    "            (\"market for ethylene glycol\", \"ethylene glycol\", \"GLO\", \"\"),\n",
    "            {\"location\": \"RER\",},\n",
    "        ),\n",
    "        (\n",
    "            (\"air separation, cryogenic\", \"nitrogen, liquid\", \"GLO\", \"\"),\n",
    "            {\n",
    "                \"name\": \"industrial gases production, cryogenic air separation\",\n",
    "                \"location\": \"RER\",\n",
    "            },\n",
    "        ),\n",
    "        (\n",
    "            (\"air separation, cryogenic\", \"nitrogen, liquid\", \"RER\", \"\"),\n",
    "            {\n",
    "                \"name\": \"industrial gases production, cryogenic air separation\",\n",
    "            },\n",
    "        ),\n",
    "        (\n",
    "            (\"Argon-40\", \"\", \"\", (\"air\",)),\n",
    "            {\n",
    "                \"name\": \"Argon\",\n",
    "            },\n",
    "        )\n",
    "    ],\n",
    "}"
   ]
  },
  {
   "cell_type": "code",
   "execution_count": null,
   "metadata": {},
   "outputs": [],
   "source": [
    "bw2io.Migration(name=\"ei3.9-3.10\").write(data=migration, description=\"ei 3.9 to 3.10\")"
   ]
  },
  {
   "cell_type": "code",
   "execution_count": null,
   "metadata": {},
   "outputs": [],
   "source": [
    "\"ei3.9-3.10\" in bw2io.migrations"
   ]
  },
  {
   "cell_type": "code",
   "execution_count": null,
   "metadata": {},
   "outputs": [],
   "source": [
    "bw2io.Migration(\"ei3.9-3.10\")"
   ]
  },
  {
   "cell_type": "markdown",
   "metadata": {},
   "source": [
    "We apply the migration on our imported data."
   ]
  },
  {
   "cell_type": "code",
   "execution_count": null,
   "metadata": {},
   "outputs": [],
   "source": [
    "imp.data = bw2io.strategies.migrate_exchanges(\n",
    "    db=imp.data,\n",
    "    migration=\"ei3.9-3.10\"\n",
    ")"
   ]
  },
  {
   "cell_type": "code",
   "execution_count": null,
   "metadata": {},
   "outputs": [],
   "source": [
    "imp.match_database(\"ecoinvent-3.10-cutoff\", fields=('name', 'reference product', 'unit', 'location'))\n",
    "imp.match_database(\"biosphere\", fields=('name', 'unit', 'categories'))\n",
    "imp.statistics()"
   ]
  },
  {
   "cell_type": "markdown",
   "metadata": {},
   "source": [
    "We have zero unlinked exchanges, we're ready to write the database."
   ]
  },
  {
   "cell_type": "code",
   "execution_count": null,
   "metadata": {},
   "outputs": [],
   "source": [
    "if len(list(imp.unlinked)) == 0:\n",
    "    imp.write_database()"
   ]
  },
  {
   "cell_type": "code",
   "execution_count": null,
   "metadata": {},
   "outputs": [],
   "source": [
    "bw2data.databases"
   ]
  },
  {
   "cell_type": "markdown",
   "metadata": {},
   "source": [
    "# Contribution analyses"
   ]
  },
  {
   "cell_type": "markdown",
   "metadata": {},
   "source": [
    "## Process contribution"
   ]
  },
  {
   "cell_type": "markdown",
   "metadata": {},
   "source": [
    "We have already seen how to obtain a contribution analysis in terms of contributing processes:"
   ]
  },
  {
   "cell_type": "code",
   "execution_count": null,
   "metadata": {},
   "outputs": [],
   "source": [
    "db = bw2data.Database(\"carbon fiber\")"
   ]
  },
  {
   "cell_type": "code",
   "execution_count": null,
   "metadata": {},
   "outputs": [],
   "source": [
    "# let's list the datasets in our new database \"carbon fiber\"\n",
    "[a[\"name\"] for a in db]"
   ]
  },
  {
   "cell_type": "code",
   "execution_count": null,
   "metadata": {},
   "outputs": [],
   "source": [
    "activity = db.search('carbon fiber production, weaved, at factory')[0]\n",
    "activity"
   ]
  },
  {
   "cell_type": "code",
   "execution_count": null,
   "metadata": {},
   "outputs": [],
   "source": [
    "method = ('IPCC 2021', 'climate change', 'global warming potential (GWP100)')"
   ]
  },
  {
   "cell_type": "code",
   "execution_count": null,
   "metadata": {},
   "outputs": [],
   "source": [
    "lca = bw2calc.LCA({activity:1}, method)\n",
    "lca.lci()\n",
    "lca.lcia()\n",
    "lca.score"
   ]
  },
  {
   "cell_type": "code",
   "execution_count": null,
   "metadata": {},
   "outputs": [],
   "source": [
    "rev_prod, rev_act, rev_bio = lca.reverse_dict()"
   ]
  },
  {
   "cell_type": "code",
   "execution_count": null,
   "metadata": {},
   "outputs": [],
   "source": [
    "results_by_activity = (lca.characterized_inventory.sum(axis=0)).A1"
   ]
  },
  {
   "cell_type": "code",
   "execution_count": null,
   "metadata": {},
   "outputs": [],
   "source": [
    "# Create a list of names in columns\n",
    "list_of_names_in_columns = [\n",
    "    bw2data.get_activity(rev_prod[col])['name'] \n",
    "    for col in range((lca.characterized_inventory.sum(axis=0)).shape[1])\n",
    "]"
   ]
  },
  {
   "cell_type": "code",
   "execution_count": null,
   "metadata": {},
   "outputs": [],
   "source": [
    "pd.Series(index=list_of_names_in_columns, data=results_by_activity).sort_values(ascending=False).head(10)"
   ]
  },
  {
   "cell_type": "markdown",
   "metadata": {},
   "source": [
    "With BW2.5 But there is a simpler and more \"official\" way to obtain this."
   ]
  },
  {
   "cell_type": "code",
   "execution_count": null,
   "metadata": {},
   "outputs": [],
   "source": [
    "import bw2analyzer as ba"
   ]
  },
  {
   "cell_type": "code",
   "execution_count": null,
   "metadata": {},
   "outputs": [],
   "source": [
    "pd.DataFrame(\n",
    "    [(x, y, z[\"unit\"], z[\"name\"]) for x, y, z in ba.ContributionAnalysis().annotated_top_processes(lca=lca)],\n",
    "    columns=[\"score\", \"quantity\", \"unit\", \"name\"]\n",
    ")"
   ]
  },
  {
   "cell_type": "markdown",
   "metadata": {},
   "source": [
    "## Importing custom impact assessment methods"
   ]
  },
  {
   "cell_type": "markdown",
   "metadata": {},
   "source": [
    "Let's import an Excel file containing names of greenhouse gases and factors (according to the IPCC 2021 GWP method), and add a CF for Hydrogen (11 kg $CO_2$-eq./kg $H_2$)"
   ]
  },
  {
   "cell_type": "code",
   "execution_count": null,
   "metadata": {},
   "outputs": [],
   "source": [
    "from bw2io import ExcelLCIAImporter\n",
    "new_method = ExcelLCIAImporter(\n",
    "    filepath=\"files/lcia_gwp2021_100a_w_bio.xlsx\",\n",
    "    name=(\"IPCC 2021\", \"GWP 100 with bio C and H2\"),\n",
    "    unit=\"kg CO2e\",\n",
    "    description=\"modified IPCC GWP100 method\"\n",
    ")"
   ]
  },
  {
   "cell_type": "code",
   "execution_count": null,
   "metadata": {},
   "outputs": [],
   "source": [
    "new_method.apply_strategies()"
   ]
  },
  {
   "cell_type": "code",
   "execution_count": null,
   "metadata": {},
   "outputs": [],
   "source": [
    "new_method.name = (\"IPCC 2021\", \"GWP 100 with bio C and H2\")"
   ]
  },
  {
   "cell_type": "code",
   "execution_count": null,
   "metadata": {},
   "outputs": [],
   "source": [
    "new_method.write_methods(\n",
    "    overwrite=True,\n",
    "    verbose=True,\n",
    ")"
   ]
  },
  {
   "cell_type": "code",
   "execution_count": null,
   "metadata": {},
   "outputs": [],
   "source": [
    "(\"IPCC 2021\", \"GWP 100 with bio C and H2\") in bw2data.methods"
   ]
  },
  {
   "cell_type": "code",
   "execution_count": null,
   "metadata": {},
   "outputs": [],
   "source": [
    "act=bw2data.Database(\"ecoinvent-3.10-cutoff\").random()\n",
    "for method in [\n",
    "    ('IPCC 2021', 'climate change', 'global warming potential (GWP100)'),\n",
    "    (\"IPCC 2021\", \"GWP 100 with bio C and H2\")\n",
    "]:\n",
    "    test = bw2calc.LCA({act: 1}, method)\n",
    "    test.lci()\n",
    "    test.lcia()\n",
    "    print(test.score)"
   ]
  },
  {
   "cell_type": "markdown",
   "metadata": {},
   "source": [
    "We can also build a method manually."
   ]
  },
  {
   "cell_type": "code",
   "execution_count": null,
   "metadata": {},
   "outputs": [],
   "source": [
    "data = [\n",
    "    [f.key, 1]\n",
    "    for f in bw2data.Database(\"biosphere\")\n",
    "    if \"carbon dioxide\" in f[\"name\"].lower()\n",
    "]"
   ]
  },
  {
   "cell_type": "code",
   "execution_count": null,
   "metadata": {},
   "outputs": [],
   "source": [
    "my_method = bw2data.Method((\"IPCC 2021\", \"Simple CO2 IA method\"))\n",
    "my_method.validate(data)\n",
    "my_method.register()\n",
    "my_method.metadata = {\"unit\": \"kg CO2eq.\", \"abbreviation\": \"GWP\"}\n",
    "my_method.write(data)"
   ]
  },
  {
   "cell_type": "code",
   "execution_count": null,
   "metadata": {},
   "outputs": [],
   "source": [
    "method = (\"IPCC 2021\", \"Simple CO2 IA method\")\n",
    "method in bw2data.methods"
   ]
  },
  {
   "cell_type": "code",
   "execution_count": null,
   "metadata": {},
   "outputs": [],
   "source": [
    "test = bw2calc.LCA({act: 1}, method)\n",
    "test.lci()\n",
    "test.lcia()\n",
    "print(test.score)"
   ]
  },
  {
   "cell_type": "markdown",
   "metadata": {},
   "source": [
    "## Tree map"
   ]
  },
  {
   "cell_type": "code",
   "execution_count": null,
   "metadata": {},
   "outputs": [],
   "source": [
    "from polyviz import treemap"
   ]
  },
  {
   "cell_type": "code",
   "execution_count": null,
   "metadata": {},
   "outputs": [],
   "source": [
    "method = ('IPCC 2021', 'climate change', 'global warming potential (GWP100)')\n",
    "treemap(\n",
    "    activity=activity,\n",
    "    method=method\n",
    ")"
   ]
  },
  {
   "cell_type": "markdown",
   "metadata": {},
   "source": [
    "## Supply chain traversal"
   ]
  },
  {
   "cell_type": "code",
   "execution_count": null,
   "metadata": {},
   "outputs": [],
   "source": [
    "from polyviz import sankey"
   ]
  },
  {
   "cell_type": "markdown",
   "metadata": {},
   "source": [
    "Github repo: [link](https://github.com/romainsacchi/polyviz). No proper documentation yet, but a notebook with [examples](https://github.com/romainsacchi/polyviz/blob/main/examples/examples.ipynb)."
   ]
  },
  {
   "cell_type": "code",
   "execution_count": null,
   "metadata": {},
   "outputs": [],
   "source": [
    "_, df = sankey(\n",
    "    activity=activity,\n",
    "    level=4,\n",
    "    cutoff=0.01,\n",
    "    method=method,\n",
    "    labels_swap={\n",
    "        \"carbon fiber\": \"cf.\",\n",
    "        \"production\": \"prod.\"\n",
    "    }\n",
    ")"
   ]
  },
  {
   "cell_type": "markdown",
   "metadata": {},
   "source": [
    "## Violin plot"
   ]
  },
  {
   "cell_type": "code",
   "execution_count": null,
   "metadata": {},
   "outputs": [],
   "source": [
    "from polyviz import violin\n",
    "import warnings\n",
    "warnings.filterwarnings(\"ignore\")"
   ]
  },
  {
   "cell_type": "code",
   "execution_count": null,
   "metadata": {},
   "outputs": [],
   "source": [
    "method = ('IPCC 2021', 'climate change', 'global warming potential (GWP100)')\n",
    "violin(\n",
    "    activities=[\n",
    "        a for a in bw2data.Database(\"ecoinvent-3.10-cutoff\") \n",
    "        if a[\"unit\"] == \"ton kilometer\"\n",
    "    ][:3],\n",
    "    method=method,\n",
    "    iterations=100\n",
    ")"
   ]
  },
  {
   "cell_type": "markdown",
   "metadata": {},
   "source": [
    "# Exporting databases"
   ]
  },
  {
   "cell_type": "markdown",
   "metadata": {},
   "source": [
    "## To Excel"
   ]
  },
  {
   "cell_type": "markdown",
   "metadata": {},
   "source": [
    "We can export the entire database inventory to an Excel file."
   ]
  },
  {
   "cell_type": "code",
   "execution_count": null,
   "metadata": {},
   "outputs": [],
   "source": [
    "bw2io.export.write_lci_excel?"
   ]
  },
  {
   "cell_type": "code",
   "execution_count": null,
   "metadata": {},
   "outputs": [],
   "source": [
    "bw2io.export.write_lci_excel(\n",
    "    database_name=\"carbon fiber\",\n",
    ")"
   ]
  },
  {
   "cell_type": "markdown",
   "metadata": {},
   "source": [
    "## As a bw2package file"
   ]
  },
  {
   "cell_type": "markdown",
   "metadata": {},
   "source": [
    "We can also export the database as a Brightway package file."
   ]
  },
  {
   "cell_type": "code",
   "execution_count": null,
   "metadata": {},
   "outputs": [],
   "source": [
    "bw2io.package.BW2Package().export_obj(\n",
    "    obj=db,\n",
    ")"
   ]
  },
  {
   "cell_type": "code",
   "execution_count": null,
   "metadata": {},
   "outputs": [],
   "source": [
    "bw2io.package.BW2Package().import_file(\"filepath to bw2package\")"
   ]
  },
  {
   "cell_type": "markdown",
   "metadata": {},
   "source": [
    "<div class=\"alert alert-info\">\n",
    "Note: It may not be ideal for sharing, because for the import to be successful, the other user will need the databases the exported database depends on (ecoinvent, biosphere) to be named exactly the same. It is still possible, though, but the user you share the package with, will have to correct this upon import.\n",
    "</div>"
   ]
  },
  {
   "cell_type": "markdown",
   "metadata": {},
   "source": [
    "## As a project"
   ]
  },
  {
   "cell_type": "markdown",
   "metadata": {},
   "source": [
    "We can export the entire project. This is the safest option, as all the database `carbon fiber` depends on are also exported. The drawback is that the file is bigger, and there may be licensing issues. But it is at least a good backup solution."
   ]
  },
  {
   "cell_type": "code",
   "execution_count": null,
   "metadata": {},
   "outputs": [],
   "source": [
    "bw2data.projects.current"
   ]
  },
  {
   "cell_type": "code",
   "execution_count": null,
   "metadata": {},
   "outputs": [],
   "source": [
    "bw2io.backup.backup_project_directory?"
   ]
  },
  {
   "cell_type": "code",
   "execution_count": null,
   "metadata": {},
   "outputs": [],
   "source": [
    "bw2data.projects.set_current(\"training-day\")\n",
    "bw2data.databases"
   ]
  },
  {
   "cell_type": "code",
   "execution_count": null,
   "metadata": {},
   "outputs": [],
   "source": [
    "bw2io.backup.backup_project_directory(\n",
    "    project='training-day',\n",
    ")"
   ]
  },
  {
   "cell_type": "markdown",
   "metadata": {},
   "source": [
    "And we load it back up... Note that I give it another name to not overwrite it.\n",
    "Also, overwrite is `False` by default, so it would need ot be set to `True` first."
   ]
  },
  {
   "cell_type": "code",
   "execution_count": null,
   "metadata": {},
   "outputs": [],
   "source": [
    "bw2io.backup.restore_project_directory(\n",
    "    fp=\"filepath to tar file\",\n",
    "    project_name=\"training-day-2\",\n",
    "    overwrite_existing=False\n",
    ")"
   ]
  },
  {
   "cell_type": "markdown",
   "metadata": {},
   "source": [
    "Let's check"
   ]
  },
  {
   "cell_type": "code",
   "execution_count": null,
   "metadata": {},
   "outputs": [],
   "source": [
    "\"training-day-2\" in bw2data.projects"
   ]
  },
  {
   "cell_type": "code",
   "execution_count": null,
   "metadata": {},
   "outputs": [],
   "source": [
    "bw2data.projects.delete_project(\"training-day-2\", delete_dir=True)"
   ]
  }
 ],
 "metadata": {
  "kernelspec": {
   "display_name": "Python 3 (ipykernel)",
   "language": "python",
   "name": "python3"
  },
  "language_info": {
   "codemirror_mode": {
    "name": "ipython",
    "version": 3
   },
   "file_extension": ".py",
   "mimetype": "text/x-python",
   "name": "python",
   "nbconvert_exporter": "python",
   "pygments_lexer": "ipython3",
   "version": "3.11.11"
  },
  "toc": {
   "colors": {
    "hover_highlight": "#DAA520",
    "running_highlight": "#FF0000",
    "selected_highlight": "#FFD700"
   },
   "moveMenuLeft": true,
   "nav_menu": {
    "height": "208px",
    "width": "252px"
   },
   "navigate_menu": true,
   "number_sections": true,
   "sideBar": true,
   "threshold": 4,
   "toc_cell": false,
   "toc_section_display": "block",
   "toc_window_display": false,
   "widenNotebook": false
  }
 },
 "nbformat": 4,
 "nbformat_minor": 4
}
