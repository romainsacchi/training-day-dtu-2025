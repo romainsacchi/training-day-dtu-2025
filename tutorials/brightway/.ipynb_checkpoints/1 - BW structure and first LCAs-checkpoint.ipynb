{
 "cells": [
  {
   "cell_type": "markdown",
   "metadata": {},
   "source": [
    "<div>\n",
    "    <table>\n",
    "        <tr>\n",
    "            <td>\n",
    "                <center>\n",
    "                    <h1>Brightway Introduction</h1>\n",
    "                     <a href=\"https://www.psi.ch/en/ta/people/romain-sacchi\">Romain Sacchi</a> (PSI)\n",
    "                    <br><br>\n",
    "                    Duration: 1 hour 15 minutes.\n",
    "                </center>\n",
    "            </td>\n",
    "        </tr>\n",
    "    </div>\n",
    "\n",
    "# Brightway modules: bw2io, bw2data, bw2calc\n",
    "\n",
    "*The following content is adapted from [the course materials dispensed at the 2022 Brightcon conference](https://github.com/Depart-de-Sentier/teaching-material/tree/main/beginners/Projects%2C%20databases%2C%20exchanges%2C%20activities). If you need additional notebooks, go to this repository*.\n",
    "\n",
    "\n",
    "<div class=\"alert alert-info\">\n",
    "Note: we will be using <a href=\"https://docs.brightway.dev/en/legacy/\">Brightway 2</a>, not <a href=\"https://docs.brightway.dev/en/latest/content/installation/index.html\">Brightway 2.5</a>. From the user end side, very little differs between the two. The code executed throughout this notebook works with both versions.\n",
    "</div>"
   ]
  },
  {
   "cell_type": "markdown",
   "metadata": {
    "deletable": true,
    "editable": true,
    "solution": "hidden"
   },
   "source": [
    "**Brightway2 documentation** 👉 [https://docs.brightway.dev/en/legacy/index.html](https://docs.brightway.dev/en/legacy/index.html)\n",
    "\n",
    "**Brightway25 documentation** 👉 [https://docs.brightway.dev/en/latest/index.html](https://docs.brightway.dev/en/latest/index.html)"
   ]
  },
  {
   "cell_type": "markdown",
   "metadata": {
    "deletable": true,
    "editable": true
   },
   "source": [
    "### Learning objectives  \n",
    "  - Learn about the general structure of Brightway and its most important abstractions: projects, databases, activities, and exchanges  \n",
    "  - Learn how to find objects (notably activities and exchanges), assign them to variables, and work with them using their associated methods  \n",
    "  - Learn about how simple LCA calculations are done (one product, one impact category), and specifically how the different matrices are built and used  \n",
    "  - Learn how to extract information from the matrices (inputs or results) and translate them into nice, human-readable objects  \n",
    "  - Learn different ways to carry out comparative LCAs  \n",
    "  - Learn different ways to carry out LCAs with multiple impact categories"
   ]
  },
  {
   "cell_type": "markdown",
   "metadata": {
    "deletable": true,
    "editable": true
   },
   "source": [
    "### Content  \n",
    "\n",
    "#### 1) Getting started  \n",
    "##### 1.1) Brightway\n",
    "  - Accessing Brightway libraries  \n",
    "  \n",
    "##### 1.2) Projects  \n",
    "  - Concept  \n",
    "  - Creating a new project or switching to an existing project  \n",
    "  - Contents of a project  \n",
    "  \n",
    "##### 1.3) bw2_setup(), biosphere3 database and LCIA methods  \n",
    "  - bw2_setup()  \n",
    "  - biosphere3 database and a first look at database objects  \n",
    "  - Getting activities from codes or keys  \n",
    "  - Methods  \n",
    "  - Looking up elementary flows (list comprehensions, search)  \n",
    "  - Searching for methods  \n",
    "  - Nice display of data in methods \n",
    "\n",
    "##### 1.4) LCI databases  \n",
    "  - Importing (succinct)  \n",
    "  - LCI activities  \n",
    "  - Looking up activities  \n",
    "  - LCI exchanges\n",
    "  - Loaded LCI databases\n",
    "  \n",
    "#### 2) My first LCA - simplest case:  \n",
    "##### 2.1) General syntax of LCA calculations  \n",
    "\n",
    "##### 2.2) The `demand` attribute  \n",
    "\n",
    "##### 2.3) Reminder of the system that needs to be solved in calculating an LCI  \n",
    "\n",
    "##### 2.4) Building the matrices  \n",
    "\n",
    "  - $A$ matrix  \n",
    "  - $B$ matrix  \n",
    "  - $f$ (demand array)  \n",
    "  \n",
    "##### 2.5) Solution to the inventory calculation  \n",
    "\n",
    "  - Supply array  \n",
    "  - Inventory matrix  \n",
    "  \n",
    "##### 2.6) Life Cycle Impact Assessment  \n",
    "\n",
    "  - `.lcia()` method  \n",
    "  - Simple contribution analysis  \n",
    "  \n",
    "#### 3) My second LCA - comparative LCA:\n",
    "    \n",
    "#### 4) My third LCA - Multiple impact categories\n",
    "  \n",
    "#### 5) My first and third LCAs revisited with MultiLCA"
   ]
  },
  {
   "cell_type": "markdown",
   "metadata": {
    "deletable": true,
    "editable": true
   },
   "source": [
    "### 1) Getting started"
   ]
  },
  {
   "cell_type": "markdown",
   "metadata": {
    "deletable": true,
    "editable": true
   },
   "source": [
    "#### 1.1) Jupyter lab / notebooks and accessing Brightway2"
   ]
  },
  {
   "cell_type": "markdown",
   "metadata": {
    "deletable": true,
    "editable": true
   },
   "source": [
    "This teaching material was produced with the intention to be used in Jupyter Notebooks."
   ]
  },
  {
   "cell_type": "markdown",
   "metadata": {},
   "source": [
    "<div class=\"alert alert-info\">\n",
    "This notebook is meant to run with a specific conda (and Python) environment.\n",
    "    Make sure you have started Jupyter Notebooks or Jupyter Lab from the conda\n",
    "    environment where the brightway modules are installed (the conda environment is called `bw2`).\n",
    "</div>"
   ]
  },
  {
   "cell_type": "markdown",
   "metadata": {
    "deletable": true,
    "editable": true
   },
   "source": [
    "##### Accessing Brightway libraries"
   ]
  },
  {
   "cell_type": "markdown",
   "metadata": {
    "deletable": true,
    "editable": true
   },
   "source": [
    "The different modules in Brightway are Python libraries. This means that to use them, you can use any environment from which you usually use Python (Idle, command prompt, Spyder, or, as is the case today, Jupyter Notebooks).  \n",
    "\n",
    "We will favor Jupyter Notebooks in this course because they allow us to integrate code and text and provide code snippets for you to complete.  "
   ]
  },
  {
   "cell_type": "markdown",
   "metadata": {
    "deletable": true,
    "editable": true
   },
   "source": [
    "Like all other Python packages, you need to `import` Brightway modules.\n",
    "\n",
    "Brightway (or ``brightway25``) is made up of *five* main modules:\n",
    "* ``bw2io``: to handle data input and output.\n",
    "* ``bw2data``: to handle databases and LCIA methods.\n",
    "* ``bw2calc``: to perform single-, multi- and Monte Carlo analyses.\n",
    "* ``bw2analyzer``: to analyze results produced by **bw2calc**.\n",
    "* ``bw2parameters``: to use parameters in inventories.\n",
    "\n",
    "And many other modules for more specific uses. For example:\n",
    "* ``bw_processing``: to provide matrices to ``bw2calc`` directly, instead of a database."
   ]
  },
  {
   "cell_type": "markdown",
   "metadata": {
    "collapsed": false,
    "deletable": true,
    "editable": true,
    "jupyter": {
     "outputs_hidden": false
    }
   },
   "source": [
    "We will for now import ``bw2io``, ``bw2data`` and ``bw2calc``."
   ]
  },
  {
   "cell_type": "code",
   "execution_count": null,
   "metadata": {},
   "outputs": [],
   "source": [
    "import bw2io, bw2data, bw2calc"
   ]
  },
  {
   "cell_type": "markdown",
   "metadata": {},
   "source": [
    "We can check the versions of these libraries, and where their code is located on your computer/the server."
   ]
  },
  {
   "cell_type": "code",
   "execution_count": null,
   "metadata": {},
   "outputs": [],
   "source": [
    "bw2io.__version__"
   ]
  },
  {
   "cell_type": "code",
   "execution_count": null,
   "metadata": {},
   "outputs": [],
   "source": [
    "bw2io.__file__"
   ]
  },
  {
   "cell_type": "markdown",
   "metadata": {
    "deletable": true,
    "editable": true
   },
   "source": [
    "We're also going to be using the following libraries:"
   ]
  },
  {
   "cell_type": "code",
   "execution_count": null,
   "metadata": {
    "deletable": true,
    "editable": true,
    "tags": []
   },
   "outputs": [],
   "source": [
    "import os               # to use \"operating system dependent functionality\"\n",
    "import numpy as np      # \"the fundamental package for scientific computing with Python\"\n",
    "import pandas as pd     # \"high-performance, easy-to-use data structures and data analysis tools\" for Python"
   ]
  },
  {
   "cell_type": "markdown",
   "metadata": {
    "deletable": true,
    "editable": true
   },
   "source": [
    "#### 1.2) Projects"
   ]
  },
  {
   "cell_type": "markdown",
   "metadata": {
    "deletable": true,
    "editable": true
   },
   "source": [
    "##### Concept"
   ]
  },
  {
   "cell_type": "markdown",
   "metadata": {
    "deletable": true,
    "editable": true
   },
   "source": [
    "The top-level \"container\" in Brightway is the project (see [here](https://docs.brightway.dev/en/latest/content/theory/structure.html)). \n",
    "\n",
    "A project contains LCI databases, LCIA methods and other less often-used objects. Objects from one project do not interact with objects within other projects. By analogy, projects are like databases in other LCA software.  \n",
    "\n",
    "![title](bw_structure.png)\n",
    "\n",
    "\n",
    "When you first launch Brightway, you will be in the `default` project. You can check this using the `current` property of the `projects` object: "
   ]
  },
  {
   "cell_type": "code",
   "execution_count": null,
   "metadata": {
    "collapsed": false,
    "deletable": true,
    "editable": true,
    "jupyter": {
     "outputs_hidden": false
    }
   },
   "outputs": [],
   "source": [
    "bw2data.projects.current"
   ]
  },
  {
   "cell_type": "markdown",
   "metadata": {
    "deletable": true,
    "editable": true
   },
   "source": [
    "##### Creating a new project, or switching to an existing project"
   ]
  },
  {
   "cell_type": "markdown",
   "metadata": {
    "deletable": true,
    "editable": true
   },
   "source": [
    "Let's create a new project for this course. Let's call it ``bw2_intro``.\n",
    "\n",
    "There are two ways of doing this:  \n",
    "* `projects.create_project('bw2_intro')` will create the project, but you will remain in your current project.\n",
    "* `projects.set_current('bw2_intro')` will switch you to the project passed as an argument and create it first if it doesn't exist.  Let's do the latter:"
   ]
  },
  {
   "cell_type": "code",
   "execution_count": null,
   "metadata": {
    "collapsed": false,
    "deletable": true,
    "editable": true,
    "jupyter": {
     "outputs_hidden": false
    },
    "solution": "hidden"
   },
   "outputs": [],
   "source": [
    "# The name of the project is entered as string; \n",
    "# it doesn't really have any restrictions, so can include spaces, \n",
    "# special characters, other languages, or even emoji.\n",
    "\n",
    "bw2data.projects.set_current(\"training-day\")"
   ]
  },
  {
   "cell_type": "markdown",
   "metadata": {
    "deletable": true,
    "editable": true
   },
   "source": [
    "You can always see what projects you have on your computer by running `list(bw.projects)`. Unless you have worked with Brightway2 before on your computer, your list should contain two projects: 'default' and 'bw2_seminar_2017'."
   ]
  },
  {
   "cell_type": "markdown",
   "metadata": {
    "deletable": true,
    "editable": true,
    "solution": "shown",
    "solution2": "shown",
    "solution2_first": true,
    "solution_first": true
   },
   "source": [
    "_**Exercise**_: list the projects on your computer."
   ]
  },
  {
   "cell_type": "code",
   "execution_count": null,
   "metadata": {
    "collapsed": false,
    "deletable": true,
    "editable": true,
    "jupyter": {
     "outputs_hidden": false
    },
    "scrolled": true,
    "solution": "shown",
    "solution2": "shown"
   },
   "outputs": [],
   "source": [
    "bw2data.projects"
   ]
  },
  {
   "cell_type": "markdown",
   "metadata": {},
   "source": [
    "_**Exercise**_: check the currently activated project."
   ]
  },
  {
   "cell_type": "code",
   "execution_count": null,
   "metadata": {},
   "outputs": [],
   "source": [
    "bw2data.projects.current"
   ]
  },
  {
   "cell_type": "markdown",
   "metadata": {
    "deletable": true,
    "editable": true
   },
   "source": [
    "Like in all Python modules, you can get additional information on the `projects` object and associated properties and methods by typing `help(projects)`. The [docs](https://docs.brightway.dev/en/latest/content/gettingstarted/projects.html) give you additional examples of the methods available from the project object."
   ]
  },
  {
   "cell_type": "markdown",
   "metadata": {
    "deletable": true,
    "editable": true
   },
   "source": [
    "##### Contents of a project"
   ]
  },
  {
   "cell_type": "markdown",
   "metadata": {
    "deletable": true,
    "editable": true
   },
   "source": [
    "One property of `projects` is its location, given by `projects.dir`:"
   ]
  },
  {
   "cell_type": "code",
   "execution_count": null,
   "metadata": {
    "collapsed": false,
    "deletable": true,
    "editable": true,
    "jupyter": {
     "outputs_hidden": false
    }
   },
   "outputs": [],
   "source": [
    "bw2data.projects.dir"
   ]
  },
  {
   "cell_type": "markdown",
   "metadata": {
    "deletable": true,
    "editable": true
   },
   "source": [
    "<div class=\"alert alert-info\">\n",
    "    If working on your personal computer, try to locate your project directory on your computer.\n",
    "</div>"
   ]
  },
  {
   "cell_type": "markdown",
   "metadata": {
    "deletable": true,
    "editable": true
   },
   "source": [
    "First things first: **do not panic**! You can use ``brightway25`` for years without ever opening this directory, but we will discuss some of these files later.\n",
    "\n",
    "It is simply interesting to note that, for now, all the directories are empty except the `lci` directory, which contains an empty database."
   ]
  },
  {
   "cell_type": "markdown",
   "metadata": {
    "deletable": true,
    "editable": true
   },
   "source": [
    "All in all, our (empty) project takes less than 100KB.  \n",
    "It is now time to start populating the project."
   ]
  },
  {
   "cell_type": "markdown",
   "metadata": {
    "deletable": true,
    "editable": true
   },
   "source": [
    "#### 1.3) bw2setup(), biosphere3 database and LCIA methods"
   ]
  },
  {
   "cell_type": "markdown",
   "metadata": {},
   "source": [
    "Our project is empty, as it contains zero databases:"
   ]
  },
  {
   "cell_type": "code",
   "execution_count": null,
   "metadata": {},
   "outputs": [],
   "source": [
    "bw2data.databases"
   ]
  },
  {
   "cell_type": "markdown",
   "metadata": {
    "deletable": true,
    "editable": true
   },
   "source": [
    "##### The use of `bw2io.import_ecoinvent_release()` **when working on your computer**"
   ]
  },
  {
   "cell_type": "markdown",
   "metadata": {
    "deletable": true,
    "editable": true
   },
   "source": [
    "`bw2io.import_ecoinvent_release()` is a convenient function to install three databases at once: 1) a **biosphere** database (elementary flows), 2) the **LCIA methods** database and 3) the **ecoinvent** database."
   ]
  },
  {
   "cell_type": "code",
   "execution_count": null,
   "metadata": {},
   "outputs": [],
   "source": [
    "# we already have ecoinvent imported.\n",
    "# hence, no need to run that on for now.\n",
    "\n",
    "# bw2io.import_ecoinvent_release(\n",
    "#     version=\"3.10\", \n",
    "#     system_model=\"cutoff\", # other options are \"consequential\", \"apos\" and \"EN15804\"\n",
    "#     username=\"xxxx\",\n",
    "#     password=\"xxxx\",\n",
    "#     biosphere_name=\"biosphere\" # optional, otherwise a name is chosen for you\n",
    "# )"
   ]
  },
  {
   "cell_type": "markdown",
   "metadata": {
    "deletable": true,
    "editable": true
   },
   "source": [
    "The output tells us that import_ecoinvent_release() created some very useful things:  \n",
    "  - Created a database called \"biosphere\": this database contains elementary flows (called biosphere exchanges in Brightway2)  \n",
    "  - **762** impact assessment methods\n",
    "  - the ecoinvent 3.10 cut-off database\n",
    "\n",
    "<div class=\"alert alert-info\">\n",
    "    Note: The biosphere database contains all \"natural\" flows human-made activities connect to. E.g., CO$_{2}$ emissions, ore in ground, etc.\n",
    "</div>\n",
    "  \n",
    "It also created some `mapping` between the imported exchanges and some integers: more on this later.  \n",
    "The whole directory now takes up 1'640MB."
   ]
  },
  {
   "cell_type": "markdown",
   "metadata": {},
   "source": [
    "<div class=\"alert alert-info\">\n",
    "    Note: We have just created the biosphere database from a local file. <a href=\"https://files.brightway.dev\">files.brightway.dev</a> also offers a few different online versions of the biosphere database. You can list them doing: bw2io.remote.PROJECTS_BW25\n",
    "</div>"
   ]
  },
  {
   "cell_type": "markdown",
   "metadata": {
    "deletable": true,
    "editable": true
   },
   "source": [
    "##### The *biosphere3* database and a first look at database objects"
   ]
  },
  {
   "cell_type": "markdown",
   "metadata": {
    "deletable": true,
    "editable": true
   },
   "source": [
    "<div class=\"alert alert-info\">\n",
    "    Note: You can always list the databases inside a project by simply typing 'bw2data.databases'. This accesses the 'database.json' file in your 'project.dir' (I learned the latter by typing `bw2data.databases?`, you should try it too.).\n",
    "</div>"
   ]
  },
  {
   "cell_type": "code",
   "execution_count": null,
   "metadata": {
    "collapsed": false,
    "deletable": true,
    "editable": true,
    "jupyter": {
     "outputs_hidden": false
    }
   },
   "outputs": [],
   "source": [
    "bw2data.databases"
   ]
  },
  {
   "cell_type": "markdown",
   "metadata": {
    "deletable": true,
    "editable": true
   },
   "source": [
    "While not impossible to interact with the data at this level, you probably never will unless you are developping some funky program. Instead, it is strongly recommended to learn to work with `abstractions`.  "
   ]
  },
  {
   "cell_type": "markdown",
   "metadata": {
    "deletable": true,
    "editable": true
   },
   "source": [
    "To access a database in Brightway, you use the `Database` initialization method (again, you can type `bw2data.Database?` for more information - this is the last time I'll mention this. The [docs](https://docs.brightway.dev/en/latest/content/gettingstarted/databases.html) also have an excellent page about the methods available from the Database object."
   ]
  },
  {
   "cell_type": "code",
   "execution_count": null,
   "metadata": {
    "collapsed": false,
    "deletable": true,
    "editable": true,
    "jupyter": {
     "outputs_hidden": false
    }
   },
   "outputs": [],
   "source": [
    "bw2data.Database('biosphere')"
   ]
  },
  {
   "cell_type": "markdown",
   "metadata": {
    "deletable": true,
    "editable": true
   },
   "source": [
    "It doesn't actually return anything other than information about the Backend.  \n",
    "However, there are many properties and functions associated with this database object.  These are found [here](https://2.docs.brightway.dev/technical/bw2data.html#databasechooser). We can also have a look through the autocomplete. Let's assign the database to a variable:"
   ]
  },
  {
   "cell_type": "code",
   "execution_count": null,
   "metadata": {
    "deletable": true,
    "editable": true,
    "tags": []
   },
   "outputs": [],
   "source": [
    "my_bio = bw2data.Database('biosphere')"
   ]
  },
  {
   "cell_type": "code",
   "execution_count": null,
   "metadata": {},
   "outputs": [],
   "source": [
    "my_bio"
   ]
  },
  {
   "cell_type": "markdown",
   "metadata": {
    "deletable": true,
    "editable": true
   },
   "source": [
    "Let's check the my_bio `type`:"
   ]
  },
  {
   "cell_type": "code",
   "execution_count": null,
   "metadata": {
    "collapsed": false,
    "deletable": true,
    "editable": true,
    "jupyter": {
     "outputs_hidden": false
    }
   },
   "outputs": [],
   "source": [
    "type(my_bio)"
   ]
  },
  {
   "cell_type": "markdown",
   "metadata": {
    "deletable": true,
    "editable": true
   },
   "source": [
    "Let's check its length:"
   ]
  },
  {
   "cell_type": "code",
   "execution_count": null,
   "metadata": {
    "collapsed": false,
    "deletable": true,
    "editable": true,
    "jupyter": {
     "outputs_hidden": false
    }
   },
   "outputs": [],
   "source": [
    "len(my_bio)"
   ]
  },
  {
   "cell_type": "markdown",
   "metadata": {
    "deletable": true,
    "editable": true
   },
   "source": [
    "This is exactly the number of items we saw had been added to databases.db  \n",
    "Given this, what do you think is going on?"
   ]
  },
  {
   "cell_type": "markdown",
   "metadata": {
    "deletable": true,
    "editable": true
   },
   "source": [
    "If you type `my_bio.` and click on tab, you should get a list of properties and methods associated with database objects. Try this now:"
   ]
  },
  {
   "cell_type": "code",
   "execution_count": null,
   "metadata": {
    "deletable": true,
    "editable": true,
    "tags": []
   },
   "outputs": [],
   "source": [
    "my_bio.random()        # Type my_bio. and click tab. Have a look at the different properties and objects"
   ]
  },
  {
   "cell_type": "markdown",
   "metadata": {
    "deletable": true,
    "editable": true
   },
   "source": [
    "Some of the more basic ones we will be using now are :  \n",
    "  - `random()` - returns a random activity in the database\n",
    "  - `get(*valid_exchange_tuple*)` - returns an activity, but you must know the activity key\n",
    "  - `load()` - loads the whole database as a dictionary.\n",
    "  - `make_searchable` - allows searching of the database (by default, it is already searchable)\n",
    "  - `search` - search the database  \n",
    "  \n",
    "Lets start with `random`:"
   ]
  },
  {
   "cell_type": "markdown",
   "metadata": {
    "deletable": true,
    "editable": true
   },
   "source": [
    "This returns a biosphere activity, but without assigning it to a variable, there is not much we can do with it directly.  "
   ]
  },
  {
   "cell_type": "markdown",
   "metadata": {
    "deletable": true,
    "editable": true
   },
   "source": [
    "Note: It may seem counter-intuitive for elementary *flows* to be considered *activities* in Brightway, but it is no mistake. \n",
    "LCA models are made up of **nodes** (activities) that are linked by **edges** (exchanges). The biosphere activities are the nodes *outside* the technosphere. Emissions and resource extractions are modelled as exchanges between activities in the technosphere (part of the product system) and these biosphere activities.  \n",
    "\n",
    "More on this later. "
   ]
  },
  {
   "cell_type": "markdown",
   "metadata": {
    "deletable": true,
    "editable": true
   },
   "source": [
    "For now, let's assign another random activity to a variable:"
   ]
  },
  {
   "cell_type": "code",
   "execution_count": null,
   "metadata": {
    "collapsed": false,
    "deletable": true,
    "editable": true,
    "jupyter": {
     "outputs_hidden": false
    }
   },
   "outputs": [],
   "source": [
    "random_biosphere = my_bio.random()\n",
    "random_biosphere"
   ]
  },
  {
   "cell_type": "markdown",
   "metadata": {
    "deletable": true,
    "editable": true
   },
   "source": [
    "We can get the type of the object that was returned from the database:"
   ]
  },
  {
   "cell_type": "code",
   "execution_count": null,
   "metadata": {
    "collapsed": false,
    "deletable": true,
    "editable": true,
    "jupyter": {
     "outputs_hidden": false
    }
   },
   "outputs": [],
   "source": [
    "type(random_biosphere)"
   ]
  },
  {
   "cell_type": "markdown",
   "metadata": {
    "deletable": true,
    "editable": true
   },
   "source": [
    "The type is an **activity proxy**. Activity proxies allow us to interact with the content of the database."
   ]
  },
  {
   "cell_type": "markdown",
   "metadata": {
    "deletable": true,
    "editable": true
   },
   "source": [
    "In Brightway, we *almost* always work with `Activity` or `Exchange` objects. "
   ]
  },
  {
   "cell_type": "markdown",
   "metadata": {
    "deletable": true,
    "editable": true
   },
   "source": [
    "To see what the activity contains, we can convert it to a dictionary:"
   ]
  },
  {
   "cell_type": "code",
   "execution_count": null,
   "metadata": {
    "collapsed": false,
    "deletable": true,
    "editable": true,
    "jupyter": {
     "outputs_hidden": false
    }
   },
   "outputs": [],
   "source": [
    "type(random_biosphere.as_dict())"
   ]
  },
  {
   "cell_type": "markdown",
   "metadata": {
    "deletable": true,
    "editable": true
   },
   "source": [
    "##### Getting activities from codes or keys"
   ]
  },
  {
   "cell_type": "markdown",
   "metadata": {
    "deletable": true,
    "editable": true
   },
   "source": [
    "We can see that the activities in the biosphere3 database have unique **codes**, which we can use with the `get` function:"
   ]
  },
  {
   "cell_type": "markdown",
   "metadata": {
    "deletable": true,
    "editable": true
   },
   "source": [
    "Activities can also be \"gotten\" via `get_activity`, but the argument is the activity **key**, consisting of a tuple with two elements: the database name, and the activity code."
   ]
  },
  {
   "cell_type": "markdown",
   "metadata": {
    "deletable": true,
    "editable": true,
    "solution2": "shown",
    "solution2_first": true
   },
   "source": [
    "**Exercise:** Use `bw.get_activity()` to retrieve the random biosphere activity. "
   ]
  },
  {
   "cell_type": "code",
   "execution_count": null,
   "metadata": {
    "collapsed": false,
    "deletable": true,
    "editable": true,
    "jupyter": {
     "outputs_hidden": false
    },
    "solution2": "shown"
   },
   "outputs": [],
   "source": [
    "database_name = 'biosphere'\n",
    "code = random_biosphere['code']\n",
    "random_biosphere_key = (database_name, code)\n",
    "random_biosphere_key"
   ]
  },
  {
   "cell_type": "code",
   "execution_count": null,
   "metadata": {
    "collapsed": false,
    "deletable": true,
    "editable": true,
    "jupyter": {
     "outputs_hidden": false
    },
    "solution2": "shown"
   },
   "outputs": [],
   "source": [
    "bw2data.get_activity(random_biosphere_key)"
   ]
  },
  {
   "cell_type": "markdown",
   "metadata": {
    "deletable": true,
    "editable": true
   },
   "source": [
    "You can always find (or return) the key to an activity using the `.key` property."
   ]
  },
  {
   "cell_type": "code",
   "execution_count": null,
   "metadata": {
    "collapsed": false,
    "deletable": true,
    "editable": true,
    "jupyter": {
     "outputs_hidden": false
    }
   },
   "outputs": [],
   "source": [
    "random_biosphere.key"
   ]
  },
  {
   "cell_type": "code",
   "execution_count": null,
   "metadata": {},
   "outputs": [],
   "source": [
    "bw2data.get_activity(random_biosphere.key)"
   ]
  },
  {
   "cell_type": "markdown",
   "metadata": {
    "deletable": true,
    "editable": true
   },
   "source": [
    "##### Searching for activities"
   ]
  },
  {
   "cell_type": "markdown",
   "metadata": {
    "deletable": true,
    "editable": true
   },
   "source": [
    "Let's say we are looking for a specific elementary flow, we can use the `search` method of the database (see [here](https://docs.brightwaylca.org/technical/bw2data.html#default-backend-databases-stored-in-a-sqlite-database) for more details on using search):"
   ]
  },
  {
   "cell_type": "code",
   "execution_count": null,
   "metadata": {
    "collapsed": false,
    "deletable": true,
    "editable": true,
    "jupyter": {
     "outputs_hidden": false
    }
   },
   "outputs": [],
   "source": [
    "my_bio.search('carbon dioxide')"
   ]
  },
  {
   "cell_type": "code",
   "execution_count": null,
   "metadata": {},
   "outputs": [],
   "source": [
    "list(set([\n",
    "    act[\"name\"] for act in my_bio\n",
    "]))"
   ]
  },
  {
   "cell_type": "markdown",
   "metadata": {
    "deletable": true,
    "editable": true
   },
   "source": [
    "It is also possible to use \"filters\" to narrow searches, e.g."
   ]
  },
  {
   "cell_type": "code",
   "execution_count": null,
   "metadata": {
    "collapsed": false,
    "deletable": true,
    "editable": true,
    "jupyter": {
     "outputs_hidden": false
    }
   },
   "outputs": [],
   "source": [
    "bw2data.Database('biosphere').search('carbon dioxide', filter={'categories':'urban', 'name':'fossil'})"
   ]
  },
  {
   "cell_type": "markdown",
   "metadata": {
    "deletable": true,
    "editable": true
   },
   "source": [
    "The database object is also iterable, allowing \"home-made\" searches through list comprehensions. This approach is better because one can add as many criteria as wanted:"
   ]
  },
  {
   "cell_type": "code",
   "execution_count": null,
   "metadata": {
    "collapsed": false,
    "deletable": true,
    "editable": true,
    "jupyter": {
     "outputs_hidden": false
    }
   },
   "outputs": [],
   "source": [
    "l = [\n",
    "    act for act in my_bio if 'Carbon dioxide' in act['name'] \n",
    "                                            and 'fossil' in act['name']\n",
    "                                            and 'non' not in act['name']\n",
    "                                            and 'urban air close to ground' in str(act['categories'])\n",
    "]"
   ]
  },
  {
   "cell_type": "code",
   "execution_count": null,
   "metadata": {},
   "outputs": [],
   "source": [
    "type(l)"
   ]
  },
  {
   "cell_type": "code",
   "execution_count": null,
   "metadata": {},
   "outputs": [],
   "source": [
    "len(l)"
   ]
  },
  {
   "cell_type": "markdown",
   "metadata": {},
   "source": [
    "Python using a 0-based indexing, to fetch the first item of a list:"
   ]
  },
  {
   "cell_type": "code",
   "execution_count": null,
   "metadata": {},
   "outputs": [],
   "source": [
    "l[0]"
   ]
  },
  {
   "cell_type": "markdown",
   "metadata": {
    "deletable": true,
    "editable": true
   },
   "source": [
    "Activities returned by searches or list comprehensions can be assigned to variables, but to do so, one needs to identify the activity by index. Based on the above, I can refine my filters to ensure the list comprehension only returns one activity, and then choose it without fear of choosing the wrong one.."
   ]
  },
  {
   "cell_type": "code",
   "execution_count": null,
   "metadata": {
    "collapsed": false,
    "deletable": true,
    "editable": true,
    "jupyter": {
     "outputs_hidden": false
    }
   },
   "outputs": [],
   "source": [
    "activity_I_want = [act for act in my_bio if 'Carbon dioxide' in act['name'] \n",
    "                                            and 'fossil' in act['name']\n",
    "                                            and 'non' not in act['name']\n",
    "                                            and 'urban air close to ground' in str(act['categories'])\n",
    "         ][0]\n",
    "activity_I_want"
   ]
  },
  {
   "cell_type": "markdown",
   "metadata": {
    "deletable": true,
    "editable": true,
    "solution2": "hidden",
    "solution2_first": true
   },
   "source": [
    "**Exercise**: look for and assign to a variable an emission of nitrous oxide emitted to air in the \"urban air\" subcompartment."
   ]
  },
  {
   "cell_type": "code",
   "execution_count": null,
   "metadata": {
    "collapsed": false,
    "jupyter": {
     "outputs_hidden": false
    },
    "solution2": "hidden"
   },
   "outputs": [],
   "source": [
    "# Found what I need:\n",
    "n20 = [act for act in my_bio if 'Dinitrogen monoxide' in act['name']\n",
    "                       and 'urban air close to ground' in str(act['categories'])\n",
    "         ][0]\n",
    "n20"
   ]
  },
  {
   "cell_type": "code",
   "execution_count": null,
   "metadata": {},
   "outputs": [],
   "source": [
    "n20.as_dict().values()"
   ]
  },
  {
   "cell_type": "markdown",
   "metadata": {
    "deletable": true,
    "editable": true
   },
   "source": [
    "Let's leave the biosphere database here for now."
   ]
  },
  {
   "cell_type": "markdown",
   "metadata": {
    "deletable": true,
    "editable": true
   },
   "source": [
    "##### Methods"
   ]
  },
  {
   "cell_type": "markdown",
   "metadata": {
    "deletable": true,
    "editable": true
   },
   "source": [
    "bw2io.import_ecoinvent_release() also installed LCIA methods."
   ]
  },
  {
   "cell_type": "code",
   "execution_count": null,
   "metadata": {
    "collapsed": false,
    "deletable": true,
    "editable": true,
    "jupyter": {
     "outputs_hidden": false
    }
   },
   "outputs": [],
   "source": [
    "list(bw2data.methods)"
   ]
  },
  {
   "cell_type": "markdown",
   "metadata": {
    "deletable": true,
    "editable": true
   },
   "source": [
    "One can load a random method:"
   ]
  },
  {
   "cell_type": "code",
   "execution_count": null,
   "metadata": {
    "collapsed": false,
    "deletable": true,
    "editable": true,
    "jupyter": {
     "outputs_hidden": false
    }
   },
   "outputs": [],
   "source": [
    "bw2data.methods.random()"
   ]
  },
  {
   "cell_type": "code",
   "execution_count": null,
   "metadata": {
    "collapsed": false,
    "deletable": true,
    "editable": true,
    "jupyter": {
     "outputs_hidden": false
    }
   },
   "outputs": [],
   "source": [
    "type(bw2data.methods.random())"
   ]
  },
  {
   "cell_type": "markdown",
   "metadata": {
    "deletable": true,
    "editable": true
   },
   "source": [
    "Here, the random method returns the tuple by which the method is identified. To get to an actual method, the following syntax is used:"
   ]
  },
  {
   "cell_type": "code",
   "execution_count": null,
   "metadata": {
    "collapsed": false,
    "deletable": true,
    "editable": true,
    "jupyter": {
     "outputs_hidden": false
    }
   },
   "outputs": [],
   "source": [
    "en15804 = bw2data.Method(('EN15804',\n",
    "  'inventory indicators ISO21930',\n",
    "  'use of renewable secondary fuels'),)"
   ]
  },
  {
   "cell_type": "code",
   "execution_count": null,
   "metadata": {},
   "outputs": [],
   "source": [
    "en15804.metadata"
   ]
  },
  {
   "cell_type": "markdown",
   "metadata": {
    "deletable": true,
    "editable": true
   },
   "source": [
    "Of course, a random method is probably not useful except to play around. To find an actual method, one can again use list comprehensions. Let's say I am interested in using the IPCC 2021 100 years method:"
   ]
  },
  {
   "cell_type": "code",
   "execution_count": null,
   "metadata": {
    "collapsed": false,
    "deletable": true,
    "editable": true,
    "jupyter": {
     "outputs_hidden": false
    }
   },
   "outputs": [],
   "source": [
    "[m for m in bw2data.methods if 'IPCC' in str(m) and ('2021') in str(m) and '100' in str(m) and \"LT\" not in str(m)]"
   ]
  },
  {
   "cell_type": "markdown",
   "metadata": {
    "deletable": true,
    "editable": true
   },
   "source": [
    "I am interested in the second of these, and will assign it to a variable. I can will refine my search until there is one element in my list and then choose it by subscripting."
   ]
  },
  {
   "cell_type": "code",
   "execution_count": null,
   "metadata": {
    "collapsed": false,
    "jupyter": {
     "outputs_hidden": false
    }
   },
   "outputs": [],
   "source": [
    "[m for m in bw2data.methods if 'IPCC' in m[0]\n",
    "                        and ('2021') in str(m)\n",
    "                        and 'GWP100' in str(m)\n",
    "                        and 'no LT' not in str(m)\n",
    "                        and 'SLCF' not in str(m)\n",
    "]"
   ]
  },
  {
   "cell_type": "code",
   "execution_count": null,
   "metadata": {
    "collapsed": false,
    "deletable": true,
    "editable": true,
    "jupyter": {
     "outputs_hidden": false
    }
   },
   "outputs": [],
   "source": [
    "# Good, now let's choose it:\n",
    "ipcc2021 = [m for m in bw2data.methods if 'IPCC' in m[0]\n",
    "                    and ('2021') in str(m)\n",
    "                    and 'GWP100' in str(m)\n",
    "                    and 'no LT' not in str(m)\n",
    "                    and 'SLCF' not in str(m)\n",
    "           ][0]"
   ]
  },
  {
   "cell_type": "markdown",
   "metadata": {
    "deletable": true,
    "editable": true
   },
   "source": [
    "Of course, if I know exactly the method I want, and I know the syntax, I can simply type it out: `('IPCC 2021', 'climate change', 'GWP 100a')`"
   ]
  },
  {
   "cell_type": "code",
   "execution_count": null,
   "metadata": {
    "collapsed": false,
    "deletable": true,
    "editable": true,
    "jupyter": {
     "outputs_hidden": false
    }
   },
   "outputs": [],
   "source": [
    "type(ipcc2021)"
   ]
  },
  {
   "cell_type": "code",
   "execution_count": null,
   "metadata": {
    "deletable": true,
    "editable": true,
    "tags": []
   },
   "outputs": [],
   "source": [
    "ipcc_2021_method = bw2data.Method(ipcc2021)"
   ]
  },
  {
   "cell_type": "code",
   "execution_count": null,
   "metadata": {
    "collapsed": false,
    "deletable": true,
    "editable": true,
    "jupyter": {
     "outputs_hidden": false
    }
   },
   "outputs": [],
   "source": [
    "type(ipcc_2021_method)"
   ]
  },
  {
   "cell_type": "markdown",
   "metadata": {
    "deletable": true,
    "editable": true
   },
   "source": [
    "Again, there are a bunch of methods associated with a method object. You can access these by typing ipcc_2013_method. and clicking tab.  \n",
    "For example, metadata:"
   ]
  },
  {
   "cell_type": "code",
   "execution_count": null,
   "metadata": {
    "collapsed": false,
    "deletable": true,
    "editable": true,
    "jupyter": {
     "outputs_hidden": false
    }
   },
   "outputs": [],
   "source": [
    "ipcc_2021_method.name"
   ]
  },
  {
   "cell_type": "code",
   "execution_count": null,
   "metadata": {
    "collapsed": false,
    "deletable": true,
    "editable": true,
    "jupyter": {
     "outputs_hidden": false
    }
   },
   "outputs": [],
   "source": [
    "ipcc_2021_method.metadata"
   ]
  },
  {
   "cell_type": "code",
   "execution_count": null,
   "metadata": {
    "collapsed": false,
    "deletable": true,
    "editable": true,
    "jupyter": {
     "outputs_hidden": false
    }
   },
   "outputs": [],
   "source": [
    "ipcc_2021_method.metadata['unit']"
   ]
  },
  {
   "cell_type": "markdown",
   "metadata": {
    "deletable": true,
    "editable": true
   },
   "source": [
    "Question: where is this metadata?"
   ]
  },
  {
   "cell_type": "markdown",
   "metadata": {
    "deletable": true,
    "editable": true
   },
   "source": [
    "Let's use the `load` method to see what is in the object:"
   ]
  },
  {
   "cell_type": "code",
   "execution_count": null,
   "metadata": {
    "collapsed": false,
    "deletable": true,
    "editable": true,
    "jupyter": {
     "outputs_hidden": false
    }
   },
   "outputs": [],
   "source": [
    "ipcc_2021_method.load()"
   ]
  },
  {
   "cell_type": "markdown",
   "metadata": {
    "deletable": true,
    "editable": true
   },
   "source": [
    "This contains tuples with (elementary flow keys, characterization factors)."
   ]
  },
  {
   "cell_type": "markdown",
   "metadata": {
    "deletable": true,
    "editable": true
   },
   "source": [
    "##### Nice display of data in methods "
   ]
  },
  {
   "cell_type": "markdown",
   "metadata": {
    "deletable": true,
    "editable": true,
    "solution2": "shown",
    "solution2_first": true
   },
   "source": [
    "**Exercise:** Create a dictionary with keys = elementary flow names and values = characterization factors for the `IPCC GWP100` method."
   ]
  },
  {
   "cell_type": "code",
   "execution_count": null,
   "metadata": {
    "collapsed": false,
    "deletable": true,
    "editable": true,
    "jupyter": {
     "outputs_hidden": false
    },
    "solution2": "shown"
   },
   "outputs": [],
   "source": [
    "list_cf = []\n",
    "for item in ipcc_2021_method.load():\n",
    "    key = item[0]\n",
    "    cf = item[1]\n",
    "    act = bw2data.get_activity(key)\n",
    "    name = act[\"name\"]\n",
    "    category = act[\"categories\"]\n",
    "    list_cf.append([name, category, cf])\n",
    "\n",
    "pd.DataFrame(list_cf, columns=[\"flow name\", \"compartment\", \"cf\"])"
   ]
  },
  {
   "cell_type": "markdown",
   "metadata": {},
   "source": [
    "Bonus (optional): Generate a Pandas DataFrame with the resulting dictionary. "
   ]
  },
  {
   "cell_type": "code",
   "execution_count": null,
   "metadata": {},
   "outputs": [],
   "source": []
  },
  {
   "cell_type": "markdown",
   "metadata": {},
   "source": [
    "<div class=\"alert alert-info\">\n",
    "    Note: The <a href=\"https://docs.brightway.dev/en/latest/content/gettingstarted/methods.html\">docs</a> \n",
    "    give good examples on how to use `Method()`, including how to create your own LCIA method.\n",
    "</div>"
   ]
  },
  {
   "cell_type": "markdown",
   "metadata": {
    "deletable": true,
    "editable": true
   },
   "source": [
    "Enough said for now about methods."
   ]
  },
  {
   "cell_type": "markdown",
   "metadata": {
    "deletable": true,
    "editable": true
   },
   "source": [
    "#### 1.4) LCI databases"
   ]
  },
  {
   "cell_type": "markdown",
   "metadata": {
    "deletable": true,
    "editable": true
   },
   "source": [
    "Other code to import LCI databases in other formats are found [here](https://github.com/brightway-lca/brightway2-io/tree/master/bw2io/importers). We'll explore this later."
   ]
  },
  {
   "cell_type": "markdown",
   "metadata": {
    "deletable": true,
    "editable": true
   },
   "source": [
    "*We created* a new project, so let's make sure we set it as the \"current\" project."
   ]
  },
  {
   "cell_type": "code",
   "execution_count": null,
   "metadata": {
    "collapsed": false,
    "deletable": true,
    "editable": true,
    "jupyter": {
     "outputs_hidden": false
    }
   },
   "outputs": [],
   "source": [
    "bw2data.databases"
   ]
  },
  {
   "cell_type": "markdown",
   "metadata": {
    "deletable": true,
    "editable": true
   },
   "source": [
    "To access the actual database, you need to use the Database method: "
   ]
  },
  {
   "cell_type": "markdown",
   "metadata": {
    "deletable": true,
    "editable": true
   },
   "source": [
    "Let's assign the database to a variable and see what we can do:"
   ]
  },
  {
   "cell_type": "code",
   "execution_count": null,
   "metadata": {
    "collapsed": false,
    "deletable": true,
    "editable": true,
    "jupyter": {
     "outputs_hidden": false
    }
   },
   "outputs": [],
   "source": [
    "eidb = bw2data.Database('ecoinvent-3.10-cutoff')"
   ]
  },
  {
   "cell_type": "code",
   "execution_count": null,
   "metadata": {
    "collapsed": false,
    "deletable": true,
    "editable": true,
    "jupyter": {
     "outputs_hidden": false
    }
   },
   "outputs": [],
   "source": [
    "# Check the length of the database:\n",
    "len(eidb)"
   ]
  },
  {
   "cell_type": "markdown",
   "metadata": {
    "deletable": true,
    "editable": true
   },
   "source": [
    "Again, we can get an idea of useful methods and attributes by typing eidb. and Tab. Do this now."
   ]
  },
  {
   "cell_type": "code",
   "execution_count": null,
   "metadata": {
    "deletable": true,
    "editable": true
   },
   "outputs": [],
   "source": [
    "eidb.name #Press tab!"
   ]
  },
  {
   "cell_type": "markdown",
   "metadata": {
    "deletable": true,
    "editable": true
   },
   "source": [
    "##### LCI activities"
   ]
  },
  {
   "cell_type": "markdown",
   "metadata": {
    "deletable": true,
    "editable": true
   },
   "source": [
    "In the context of LCI databases, activities are the nodes \"within the technosphere\". They are therefore the columns in the technosphere matrix $A$.  \n",
    "There are different ways to get access to an activity. Let's use the `random()` method for now to explore a random activity in the ecoinvent database."
   ]
  },
  {
   "cell_type": "code",
   "execution_count": null,
   "metadata": {
    "deletable": true,
    "editable": true,
    "tags": []
   },
   "outputs": [],
   "source": [
    "random_act = eidb.random()"
   ]
  },
  {
   "cell_type": "code",
   "execution_count": null,
   "metadata": {
    "collapsed": false,
    "deletable": true,
    "editable": true,
    "jupyter": {
     "outputs_hidden": false
    }
   },
   "outputs": [],
   "source": [
    "random_act"
   ]
  },
  {
   "cell_type": "code",
   "execution_count": null,
   "metadata": {
    "collapsed": false,
    "deletable": true,
    "editable": true,
    "jupyter": {
     "outputs_hidden": false
    }
   },
   "outputs": [],
   "source": [
    "type(random_act)"
   ]
  },
  {
   "cell_type": "markdown",
   "metadata": {
    "deletable": true,
    "editable": true
   },
   "source": [
    "To see what is stored in an activity object, let's convert our random act in a dictionary: "
   ]
  },
  {
   "cell_type": "code",
   "execution_count": null,
   "metadata": {
    "collapsed": false,
    "deletable": true,
    "editable": true,
    "jupyter": {
     "outputs_hidden": false
    }
   },
   "outputs": [],
   "source": [
    "from pprint import pprint\n",
    "pprint(random_act.as_dict())"
   ]
  },
  {
   "cell_type": "code",
   "execution_count": null,
   "metadata": {},
   "outputs": [],
   "source": [
    "random_act = eidb.random()\n",
    "random_act"
   ]
  },
  {
   "cell_type": "code",
   "execution_count": null,
   "metadata": {},
   "outputs": [],
   "source": [
    "random_act.exchanges()"
   ]
  },
  {
   "cell_type": "markdown",
   "metadata": {},
   "source": [
    "We can iterate through the exchanges and print them."
   ]
  },
  {
   "cell_type": "code",
   "execution_count": null,
   "metadata": {},
   "outputs": [],
   "source": [
    "list_exc = []\n",
    "for exc in list(random_act.exchanges()):\n",
    "    list_exc.append([\n",
    "        exc.input[\"name\"], exc.input.get(\"location\"), exc.input.get(\"categories\"), exc[\"unit\"] , exc[\"amount\"], exc[\"type\"], exc.output[\"name\"]\n",
    "    ])\n",
    "pd.DataFrame(list_exc, columns=[\"name\", \"location\", \"categories\", \"unit\", \"amount\", \"type\", \"consumer\"])"
   ]
  },
  {
   "cell_type": "code",
   "execution_count": null,
   "metadata": {},
   "outputs": [],
   "source": []
  },
  {
   "cell_type": "markdown",
   "metadata": {
    "deletable": true,
    "editable": true
   },
   "source": [
    "##### Searching and getting LCI activities"
   ]
  },
  {
   "cell_type": "markdown",
   "metadata": {
    "deletable": true,
    "editable": true
   },
   "source": [
    "Searching and getting LCI activities is done exactly the same way as for activities in the biosphere3 database:"
   ]
  },
  {
   "cell_type": "code",
   "execution_count": null,
   "metadata": {
    "collapsed": false,
    "deletable": true,
    "editable": true,
    "jupyter": {
     "outputs_hidden": false
    }
   },
   "outputs": [],
   "source": [
    "# Using search\n",
    "eidb.search('transport', filter={'name':'lorry'})"
   ]
  },
  {
   "cell_type": "code",
   "execution_count": null,
   "metadata": {},
   "outputs": [],
   "source": [
    "random_act.as_dict().keys()"
   ]
  },
  {
   "cell_type": "code",
   "execution_count": null,
   "metadata": {},
   "outputs": [],
   "source": [
    "random_act."
   ]
  },
  {
   "cell_type": "code",
   "execution_count": null,
   "metadata": {
    "collapsed": false,
    "deletable": true,
    "editable": true,
    "jupyter": {
     "outputs_hidden": false
    }
   },
   "outputs": [],
   "source": [
    "# Using list comprehensions:\n",
    "[\n",
    "    act for act in eidb if 'lorry' in act['reference product']\n",
    "    and 'RER' in act['location']\n",
    "    and '32' in act['name']\n",
    "]"
   ]
  },
  {
   "cell_type": "markdown",
   "metadata": {
    "deletable": true,
    "editable": true,
    "solution2": "shown",
    "solution2_first": true
   },
   "source": [
    "**Exercise:** Return an activity for electricity production, coal-fired power plants in Germany"
   ]
  },
  {
   "cell_type": "code",
   "execution_count": null,
   "metadata": {
    "collapsed": false,
    "deletable": true,
    "editable": true,
    "jupyter": {
     "outputs_hidden": false
    },
    "solution2": "shown"
   },
   "outputs": [],
   "source": [
    "coal_DE = [\n",
    "    act for act in eidb if 'electricity' in act['name']\n",
    "    and 'coal' in act['name']\n",
    "    and act['location']=='DE'\n",
    "][0]"
   ]
  },
  {
   "cell_type": "markdown",
   "metadata": {},
   "source": [
    "Let's print its exchanges in a pandas' DataFrame."
   ]
  },
  {
   "cell_type": "code",
   "execution_count": null,
   "metadata": {},
   "outputs": [],
   "source": []
  },
  {
   "cell_type": "code",
   "execution_count": null,
   "metadata": {},
   "outputs": [],
   "source": [
    "pd.DataFrame(\n",
    "    [\n",
    "        [\n",
    "            e.input[\"name\"],\n",
    "            e.input.get(\"reference product\"),\n",
    "            e.input.get(\"categories\"),\n",
    "            e[\"unit\"],\n",
    "            e[\"amount\"],\n",
    "            e[\"type\"],\n",
    "            e.input.get(\"location\")\n",
    "        ]\n",
    "        for e in coal_DE.exchanges()\n",
    "    ],\n",
    "    columns=[\"Name\", \"Product\", \"Categories\", \"Unit\", \"Amount\", \"Type\", \"Provider's location\"]\n",
    ")\n",
    "\n",
    "# note that we fetch \"location\" using .get(). Why?"
   ]
  },
  {
   "cell_type": "markdown",
   "metadata": {
    "deletable": true,
    "editable": true
   },
   "source": [
    "#### LCI exchanges"
   ]
  },
  {
   "cell_type": "markdown",
   "metadata": {
    "deletable": true,
    "editable": true
   },
   "source": [
    "**`Exchanges`** are the edges between nodes.\n",
    "\n",
    "These can be:  \n",
    "  - an edge between two activities within the technosphere (an element $a_{ij}$ of matrix $A$)  \n",
    "  - edges between an activity in the technosphere and an activity in the \"biosphere\" (an element $b_{kj}$ of the biosphere matrix $B$)."
   ]
  },
  {
   "cell_type": "markdown",
   "metadata": {
    "deletable": true,
    "editable": true
   },
   "source": [
    "One can iterate through **all** exchanges that have a given activity as `output`"
   ]
  },
  {
   "cell_type": "code",
   "execution_count": null,
   "metadata": {
    "collapsed": false,
    "deletable": true,
    "editable": true,
    "jupyter": {
     "outputs_hidden": false
    }
   },
   "outputs": [],
   "source": [
    "for exc in random_act.exchanges():\n",
    "    print(exc)"
   ]
  },
  {
   "cell_type": "markdown",
   "metadata": {
    "deletable": true,
    "editable": true
   },
   "source": [
    "One can also iterate through subsets of the exchanges:  \n",
    "  - Technosphere exchanges: exchanges linking to other activities in the technosphere, `activity.technosphere()`  \n",
    "  - Biosphere exchanges: AKA elementary flows, linking to activities in the biosphere database `activity.biosphere()`  \n",
    "  - Production exchange: the reference flow of the activity `activity.production`  "
   ]
  },
  {
   "cell_type": "markdown",
   "metadata": {
    "deletable": true,
    "editable": true
   },
   "source": [
    "Let's assign a **technosphere exchange** to a variable to learn more about it:"
   ]
  },
  {
   "cell_type": "code",
   "execution_count": null,
   "metadata": {
    "collapsed": false,
    "deletable": true,
    "editable": true,
    "jupyter": {
     "outputs_hidden": false
    }
   },
   "outputs": [],
   "source": [
    "random_techno_exchange = [exc for exc in coal_DE.technosphere()][0]\n",
    "random_techno_exchange"
   ]
  },
  {
   "cell_type": "code",
   "execution_count": null,
   "metadata": {
    "collapsed": false,
    "deletable": true,
    "editable": true,
    "jupyter": {
     "outputs_hidden": false
    }
   },
   "outputs": [],
   "source": [
    "type(random_techno_exchange)"
   ]
  },
  {
   "cell_type": "markdown",
   "metadata": {
    "deletable": true,
    "editable": true
   },
   "source": [
    "Again, the type is a proxy (refer to the diagram above about the different translation layers)."
   ]
  },
  {
   "cell_type": "code",
   "execution_count": null,
   "metadata": {
    "collapsed": false,
    "deletable": true,
    "editable": true,
    "jupyter": {
     "outputs_hidden": false
    }
   },
   "outputs": [],
   "source": [
    "# Amount, or weight of the edge\n",
    "random_techno_exchange.amount"
   ]
  },
  {
   "cell_type": "code",
   "execution_count": null,
   "metadata": {
    "collapsed": false,
    "deletable": true,
    "editable": true,
    "jupyter": {
     "outputs_hidden": false
    }
   },
   "outputs": [],
   "source": [
    "# Activity the exchange stems from\n",
    "random_techno_exchange.input"
   ]
  },
  {
   "cell_type": "code",
   "execution_count": null,
   "metadata": {
    "collapsed": false,
    "deletable": true,
    "editable": true,
    "jupyter": {
     "outputs_hidden": false
    }
   },
   "outputs": [],
   "source": [
    "# Activity the exchange terminates in\n",
    "random_techno_exchange.output"
   ]
  },
  {
   "cell_type": "code",
   "execution_count": null,
   "metadata": {
    "collapsed": false,
    "deletable": true,
    "editable": true,
    "jupyter": {
     "outputs_hidden": false
    }
   },
   "outputs": [],
   "source": [
    "# Exchange as a dictionary\n",
    "random_techno_exchange.as_dict()"
   ]
  },
  {
   "cell_type": "code",
   "execution_count": null,
   "metadata": {},
   "outputs": [],
   "source": [
    "bw2data.get_activity(('ecoinvent-3.10-cutoff', '38300de0f8f94767a9a3458b48392fd7'))"
   ]
  },
  {
   "cell_type": "markdown",
   "metadata": {
    "deletable": true,
    "editable": true
   },
   "source": [
    "Let's now look at a production exchange"
   ]
  },
  {
   "cell_type": "code",
   "execution_count": null,
   "metadata": {},
   "outputs": [],
   "source": [
    "random_prod_exchange = [exc for exc in coal_DE.production()][0]\n",
    "random_prod_exchange"
   ]
  },
  {
   "cell_type": "markdown",
   "metadata": {},
   "source": [
    "We can also check **who consumes** output of this activity."
   ]
  },
  {
   "cell_type": "code",
   "execution_count": null,
   "metadata": {},
   "outputs": [],
   "source": [
    "# with brightway 2.5: list(random_act.consumers())\n",
    "key = coal_DE.key\n",
    "[a for a in eidb if any(x.input.key==key for x in a.technosphere())]"
   ]
  },
  {
   "cell_type": "markdown",
   "metadata": {
    "deletable": true,
    "editable": true,
    "solution2": "shown",
    "solution2_first": true
   },
   "source": [
    "**Exercise:** Assign a biosphere flow to a variable, and check the following:  \n",
    "  - Is the output the same as for the technosphere exchange?  \n",
    "  - From what database does the biosphere exchange come from?  \n",
    "  - What is the amount of the exchange (i.e. the weight of the edge connecting the two activities)?\n",
    "  \n",
    "NOTE: If you get a ` list index out of range` error when trying to subscript your list comprehension, it means your list comprehension is empty, i.e. that there are no biosphere flows associated with the activity."
   ]
  },
  {
   "cell_type": "code",
   "execution_count": null,
   "metadata": {
    "collapsed": false,
    "deletable": true,
    "editable": true,
    "jupyter": {
     "outputs_hidden": false
    },
    "solution2": "shown"
   },
   "outputs": [],
   "source": [
    "# Assign the exchange to a variable:\n",
    "random_bio_exchange = [exc for exc in coal_DE.biosphere()][-1]\n",
    "random_bio_exchange"
   ]
  },
  {
   "cell_type": "code",
   "execution_count": null,
   "metadata": {
    "collapsed": false,
    "deletable": true,
    "editable": true,
    "jupyter": {
     "outputs_hidden": false
    },
    "solution2": "shown"
   },
   "outputs": [],
   "source": [
    "# Output of biosphere exchange\n",
    "random_bio_exchange.output"
   ]
  },
  {
   "cell_type": "code",
   "execution_count": null,
   "metadata": {
    "collapsed": false,
    "deletable": true,
    "editable": true,
    "jupyter": {
     "outputs_hidden": false
    },
    "solution2": "shown"
   },
   "outputs": [],
   "source": [
    "# Is it the same as the output of the technosphere exchange? It should be!\n",
    "random_bio_exchange.output == random_techno_exchange.output"
   ]
  },
  {
   "cell_type": "code",
   "execution_count": null,
   "metadata": {
    "collapsed": false,
    "deletable": true,
    "editable": true,
    "jupyter": {
     "outputs_hidden": false
    },
    "solution2": "shown"
   },
   "outputs": [],
   "source": [
    "# Database of the random biosphere exchange input - `.input`directly returns the activity proxy!\n",
    "random_bio_exchange.input.key"
   ]
  },
  {
   "cell_type": "code",
   "execution_count": null,
   "metadata": {
    "collapsed": false,
    "deletable": true,
    "editable": true,
    "jupyter": {
     "outputs_hidden": false
    },
    "solution2": "shown"
   },
   "outputs": [],
   "source": [
    "# Amount of exchange\n",
    "random_bio_exchange['amount']"
   ]
  },
  {
   "cell_type": "markdown",
   "metadata": {
    "deletable": true,
    "editable": true
   },
   "source": [
    "#### Loaded LCI databases"
   ]
  },
  {
   "cell_type": "markdown",
   "metadata": {
    "deletable": true,
    "editable": true
   },
   "source": [
    "It is possible to load the entire database into a dictionary.  \n",
    "This greatly speeds up work if you need to iterate over all activities or exchanges. The resulting object is quite big, so you should do this only if the gain in efficiency is worth it."
   ]
  },
  {
   "cell_type": "code",
   "execution_count": null,
   "metadata": {
    "collapsed": false,
    "deletable": true,
    "editable": true,
    "jupyter": {
     "outputs_hidden": false
    }
   },
   "outputs": [],
   "source": [
    "# Let's not do this in the seminar, ok?\n",
    "eidb_loaded = eidb.load()"
   ]
  },
  {
   "cell_type": "markdown",
   "metadata": {
    "deletable": true,
    "editable": true
   },
   "source": [
    "## 2) My first LCA"
   ]
  },
  {
   "cell_type": "markdown",
   "metadata": {
    "deletable": true,
    "editable": true
   },
   "source": [
    "Brightway has a so-called LCA object.  \n",
    "It is instantiated using `LCA(args)`.  \n",
    "The only required argument is a functional unit, described by a dictionary with keys = activities and values = amounts (more [here](https://docs.brightwaylca.org/lca.html#specifying-a-functional-unit)).  \n",
    "A second argument that is often passed is an LCIA method, passed using the method tuple.  "
   ]
  },
  {
   "cell_type": "markdown",
   "metadata": {
    "deletable": true,
    "editable": true
   },
   "source": [
    "### 2.1) General syntax of LCA calculations"
   ]
  },
  {
   "cell_type": "markdown",
   "metadata": {
    "deletable": true,
    "editable": true
   },
   "source": [
    "Let's create our first LCA object using our random activity and our IPCC method.  "
   ]
  },
  {
   "cell_type": "code",
   "execution_count": null,
   "metadata": {},
   "outputs": [],
   "source": [
    "ipcc_2021_method.name"
   ]
  },
  {
   "cell_type": "code",
   "execution_count": null,
   "metadata": {},
   "outputs": [],
   "source": [
    "random_act"
   ]
  },
  {
   "cell_type": "code",
   "execution_count": null,
   "metadata": {
    "deletable": true,
    "editable": true,
    "tags": []
   },
   "outputs": [],
   "source": [
    "myFirstLCA = bw2calc.LCA(\n",
    "    demand={random_act:1},\n",
    "    method=ipcc_2021_method.name\n",
    ")"
   ]
  },
  {
   "cell_type": "markdown",
   "metadata": {},
   "source": [
    "<div class=\"alert alert-info\">\n",
    "    Note: we are now using <b>bw2calc</b>.\n",
    "</div>"
   ]
  },
  {
   "cell_type": "code",
   "execution_count": null,
   "metadata": {},
   "outputs": [],
   "source": [
    "random_act.key"
   ]
  },
  {
   "cell_type": "code",
   "execution_count": null,
   "metadata": {},
   "outputs": [],
   "source": [
    "# we can also use the activity's key\n",
    "myFirstLCA = bw2calc.LCA({random_act.key:1}, ipcc_2021_method.name)"
   ]
  },
  {
   "cell_type": "markdown",
   "metadata": {
    "deletable": true,
    "editable": true
   },
   "source": [
    "The steps to get to the impact score are as follows:"
   ]
  },
  {
   "cell_type": "code",
   "execution_count": null,
   "metadata": {
    "collapsed": false,
    "deletable": true,
    "editable": true,
    "jupyter": {
     "outputs_hidden": false
    }
   },
   "outputs": [],
   "source": [
    "myFirstLCA.lci()    # Builds matrices, solves the system, generates an LCI matrix.\n",
    "myFirstLCA.lcia()   # Characterization, i.e. the multiplication of the elements \n",
    "                          # of the LCI matrix with characterization factors from the chosen method\n",
    "myFirstLCA.score    # Returns the score, i.e. the sum of the characterized inventory"
   ]
  },
  {
   "cell_type": "markdown",
   "metadata": {
    "deletable": true,
    "editable": true
   },
   "source": [
    "Let's take a closer look at the LCA object and its methods/attributes."
   ]
  },
  {
   "cell_type": "markdown",
   "metadata": {
    "deletable": true,
    "editable": true
   },
   "source": [
    "### 2.2) the `demand` attribute"
   ]
  },
  {
   "cell_type": "code",
   "execution_count": null,
   "metadata": {
    "collapsed": false,
    "deletable": true,
    "editable": true,
    "jupyter": {
     "outputs_hidden": false
    }
   },
   "outputs": [],
   "source": [
    "myFirstLCA.demand"
   ]
  },
  {
   "cell_type": "markdown",
   "metadata": {},
   "source": [
    "Who/what is that?"
   ]
  },
  {
   "cell_type": "markdown",
   "metadata": {
    "deletable": true,
    "editable": true
   },
   "source": [
    "To access the actual activity from the demand, you would do this:"
   ]
  },
  {
   "cell_type": "code",
   "execution_count": null,
   "metadata": {
    "collapsed": false,
    "deletable": true,
    "editable": true,
    "jupyter": {
     "outputs_hidden": false
    }
   },
   "outputs": [],
   "source": [
    "demanded_act = list(myFirstLCA.demand.keys())[0]\n",
    "demanded_act"
   ]
  },
  {
   "cell_type": "code",
   "execution_count": null,
   "metadata": {
    "collapsed": false,
    "deletable": true,
    "editable": true,
    "jupyter": {
     "outputs_hidden": false
    }
   },
   "outputs": [],
   "source": [
    "demanded_act == random_act"
   ]
  },
  {
   "cell_type": "markdown",
   "metadata": {},
   "source": [
    "But..."
   ]
  },
  {
   "cell_type": "code",
   "execution_count": null,
   "metadata": {},
   "outputs": [],
   "source": [
    "bw2data.get_activity(demanded_act) == random_act"
   ]
  },
  {
   "cell_type": "markdown",
   "metadata": {
    "deletable": true,
    "editable": true
   },
   "source": [
    "There are also other attributes that have simply not been built yet, such as the `demand_array` and the `score`. To generate them, we first need to actually build the matrices. This will be done when calling the `.lci()` method."
   ]
  },
  {
   "cell_type": "markdown",
   "metadata": {
    "deletable": true,
    "editable": true
   },
   "source": [
    "### 2.3) Reminder of the system that needs to be solved in calculating an LCI"
   ]
  },
  {
   "cell_type": "markdown",
   "metadata": {
    "deletable": true,
    "editable": true
   },
   "source": [
    "Before actually running the `.lci()` method, here's a quick refresher of the actual calculation that Brightway will need to do to calculate the inventory:  \n",
    "\n",
    "$g=BA^{-1}f$  \n",
    "\n",
    "where:  \n",
    "\n",
    "  - $A$ = the technosphere matrix  \n",
    "  - $B$ = the biosphere matrix (matrix with elementary flows)  \n",
    "  - $f$ = the final demand vector  \n",
    "  - $g$ = the inventory  "
   ]
  },
  {
   "cell_type": "markdown",
   "metadata": {
    "deletable": true,
    "editable": true,
    "solution": "hidden",
    "solution_first": true
   },
   "source": [
    "**Discussion:** Knowing what you do about the structure of Brightway (notably, activities and exchanges), what needs to happen to generate these matrices?"
   ]
  },
  {
   "cell_type": "markdown",
   "metadata": {
    "deletable": true,
    "editable": true,
    "solution": "hidden"
   },
   "source": [
    "To consider:  \n",
    "  - how should the order of the rows and columns be determined?  \n",
    "  - how should we keep track of what is in each row and column?  \n",
    "  - The parameters in the matrices are sometimes actually probability distribution functions - how should we consider this uncertainty information?  \n",
    "  - The matrices are *sparse*, i.e. they are mostly made up of zeros. Should we consider this? Why? How?"
   ]
  },
  {
   "cell_type": "markdown",
   "metadata": {
    "deletable": true,
    "editable": true
   },
   "source": [
    "### 2.4) Building the matrices"
   ]
  },
  {
   "cell_type": "markdown",
   "metadata": {
    "deletable": true,
    "editable": true
   },
   "source": [
    "#### Structured arrays"
   ]
  },
  {
   "cell_type": "markdown",
   "metadata": {
    "deletable": true,
    "editable": true
   },
   "source": [
    "LCI data imported in Brightway is stored in the `databases.db` database, discussed above.  \n",
    "It is also stored as a [data package](https://specs.frictionlessdata.io/data-package/). "
   ]
  },
  {
   "cell_type": "markdown",
   "metadata": {},
   "source": [
    "Let's first call `.lci()` to create all the matrices."
   ]
  },
  {
   "cell_type": "code",
   "execution_count": null,
   "metadata": {
    "deletable": true,
    "editable": true,
    "tags": []
   },
   "outputs": [],
   "source": [
    "myFirstLCA.lci()"
   ]
  },
  {
   "cell_type": "markdown",
   "metadata": {},
   "source": [
    "#### The final demand vector (f):\n",
    "The demand array is the $f$ in $As=f$. \n",
    "It is an attribute of the LCA object:"
   ]
  },
  {
   "cell_type": "code",
   "execution_count": null,
   "metadata": {},
   "outputs": [],
   "source": [
    "myFirstLCA.demand_array"
   ]
  },
  {
   "cell_type": "code",
   "execution_count": null,
   "metadata": {},
   "outputs": [],
   "source": [
    "len(myFirstLCA.demand_array)"
   ]
  },
  {
   "cell_type": "code",
   "execution_count": null,
   "metadata": {},
   "outputs": [],
   "source": [
    "myFirstLCA.demand_array.sum()"
   ]
  },
  {
   "cell_type": "code",
   "execution_count": null,
   "metadata": {},
   "outputs": [],
   "source": [
    "col_index = np.argwhere(myFirstLCA.demand_array).squeeze().item(0)\n",
    "col_index"
   ]
  },
  {
   "cell_type": "markdown",
   "metadata": {},
   "source": [
    "Who is that?"
   ]
  },
  {
   "cell_type": "markdown",
   "metadata": {
    "deletable": true,
    "editable": true
   },
   "source": [
    "#### Dictionaries that map between incides and activities"
   ]
  },
  {
   "cell_type": "markdown",
   "metadata": {
    "deletable": true,
    "editable": true
   },
   "source": [
    "One of the useful things that the `MatrixBuilder` produces are `dictionaries` that map row and column numbers to the keys of activities.  There are three such dictionaries, all directly accessible as attributes of the LCA object:\n",
    " - `activity_dict`: Columns in the technosphere matrix $A$ or biosphere matrix $B$\n",
    " - `product_dict` : Rows in the technosphere matrix $A$  \n",
    " - `biosphere_dict`: Rows in the biosphere matrix $B$"
   ]
  },
  {
   "cell_type": "code",
   "execution_count": null,
   "metadata": {},
   "outputs": [],
   "source": [
    "list(myFirstLCA.activity_dict.items())[:4]"
   ]
  },
  {
   "cell_type": "markdown",
   "metadata": {},
   "source": [
    "But we want to know the opposite: which row or column number for a given acivity/product?"
   ]
  },
  {
   "cell_type": "markdown",
   "metadata": {
    "deletable": true,
    "editable": true
   },
   "source": [
    "As a convenience, Brightway offers a method that will generate the three reverse dictionaries simultaneously.  \n",
    "`.reverse_dict()` returns three reverse dicts (reverse activity dict,  reverse product dict,  reverse biosphere dict) *in that order*. The syntax for creating and assigning these reverse dicts is therefore: "
   ]
  },
  {
   "cell_type": "code",
   "execution_count": null,
   "metadata": {},
   "outputs": [],
   "source": [
    "rev_act_dict, rev_prod_dict, rev_bio_dict = myFirstLCA.reverse_dict()"
   ]
  },
  {
   "cell_type": "code",
   "execution_count": null,
   "metadata": {},
   "outputs": [],
   "source": [
    "rev_prod_dict"
   ]
  },
  {
   "cell_type": "code",
   "execution_count": null,
   "metadata": {},
   "outputs": [],
   "source": [
    "rev_prod_dict[col_index] == random_act.key"
   ]
  },
  {
   "cell_type": "markdown",
   "metadata": {
    "deletable": true,
    "editable": true
   },
   "source": [
    "#### $A$ and $B$ Matrices"
   ]
  },
  {
   "cell_type": "markdown",
   "metadata": {
    "deletable": true,
    "editable": true
   },
   "source": [
    "We can also access the matrices that were constructed. Let's look at the technosphere matrix ($A$).  \n",
    "The ** $A$ matrix**, with each element $a_{ij}$ provides information on the amount of input or output of product $i$ from activity $j$. When $i=j$, the element $a_{ij}$ is the *reference flow* for the activity described in the column."
   ]
  },
  {
   "cell_type": "code",
   "execution_count": null,
   "metadata": {
    "collapsed": false,
    "deletable": true,
    "editable": true,
    "jupyter": {
     "outputs_hidden": false
    }
   },
   "outputs": [],
   "source": [
    "myFirstLCA.technosphere_matrix"
   ]
  },
  {
   "cell_type": "markdown",
   "metadata": {},
   "source": [
    "How dense is this matrix?"
   ]
  },
  {
   "cell_type": "code",
   "execution_count": null,
   "metadata": {},
   "outputs": [],
   "source": []
  },
  {
   "cell_type": "markdown",
   "metadata": {
    "deletable": true,
    "editable": true
   },
   "source": [
    "I am told that the dimensions of the matrix is $n*n$ where $n$ is the number of activities in my product system, and that the amount of actually stored elements is much less than $n^2$ (because the matrix is *sparse* and zero values are not stored).  "
   ]
  },
  {
   "cell_type": "markdown",
   "metadata": {
    "deletable": true,
    "editable": true
   },
   "source": [
    "We can have an idea of what it stores by printing it out:"
   ]
  },
  {
   "cell_type": "code",
   "execution_count": null,
   "metadata": {
    "collapsed": false,
    "deletable": true,
    "editable": true,
    "jupyter": {
     "outputs_hidden": false
    }
   },
   "outputs": [],
   "source": [
    "print(myFirstLCA.technosphere_matrix)"
   ]
  },
  {
   "cell_type": "markdown",
   "metadata": {
    "deletable": true,
    "editable": true
   },
   "source": [
    "It therefore stores both the coordinates and the values (as expected).\n",
    "We can slice this matrix using coordinates. For example, let's say we wanted a view of the exchanges associated with the unit process providing our functional unit.  \n",
    "We already know found the column number for that activity: "
   ]
  },
  {
   "cell_type": "markdown",
   "metadata": {
    "deletable": true,
    "editable": true
   },
   "source": [
    "To return the whole column from the $A$ matrix, we therefore slice the $A$ matrix.  \n",
    "Python notes:  \n",
    "  - In Python, slicing is done using []\n",
    "  - We specify rows first, then columns  \n",
    "  - `:` refers to \"the whole row\" or \"the whole column\" (depending if it is passed first or second in the []) "
   ]
  },
  {
   "cell_type": "code",
   "execution_count": null,
   "metadata": {
    "collapsed": false,
    "deletable": true,
    "editable": true,
    "jupyter": {
     "outputs_hidden": false
    }
   },
   "outputs": [],
   "source": [
    "myColumn = myFirstLCA.technosphere_matrix[:, col_index]\n",
    "myColumn"
   ]
  },
  {
   "cell_type": "markdown",
   "metadata": {
    "deletable": true,
    "editable": true
   },
   "source": [
    "Printing this out gives:"
   ]
  },
  {
   "cell_type": "code",
   "execution_count": null,
   "metadata": {
    "collapsed": false,
    "deletable": true,
    "editable": true,
    "jupyter": {
     "outputs_hidden": false
    }
   },
   "outputs": [],
   "source": [
    "print(myColumn)"
   ]
  },
  {
   "cell_type": "markdown",
   "metadata": {
    "deletable": true,
    "editable": true
   },
   "source": [
    "Not too useful: it would be better to get the *names* to these exchanges.  \n",
    "We need to do two things:  \n",
    "  - Get the indices from the CSR matrix (we can do this by converting it to a sparse matrix in `COOrdinate` format first)  \n",
    "  - Get the activity code for the each index (we can do this using the reverse of the `activity_dict`)  \n",
    "  - Use `get_activity` to access the actual names of the activities.  "
   ]
  },
  {
   "cell_type": "markdown",
   "metadata": {
    "deletable": true,
    "editable": true
   },
   "source": [
    "1) Converting the CSR matrix to a COO matrix:  "
   ]
  },
  {
   "cell_type": "code",
   "execution_count": null,
   "metadata": {
    "collapsed": false,
    "deletable": true,
    "editable": true,
    "jupyter": {
     "outputs_hidden": false
    }
   },
   "outputs": [],
   "source": [
    "myColumnCOO = myColumn.tocoo()\n",
    "myColumnCOO"
   ]
  },
  {
   "cell_type": "markdown",
   "metadata": {
    "deletable": true,
    "editable": true
   },
   "source": [
    "It is still a sparse matrix with the same number of elements, and it looks quite like the CSR version when we print it out:"
   ]
  },
  {
   "cell_type": "code",
   "execution_count": null,
   "metadata": {
    "collapsed": false,
    "deletable": true,
    "editable": true,
    "jupyter": {
     "outputs_hidden": false
    }
   },
   "outputs": [],
   "source": [
    "print(myColumnCOO)"
   ]
  },
  {
   "cell_type": "markdown",
   "metadata": {
    "deletable": true,
    "editable": true
   },
   "source": [
    "However, we can directly access the rows and column indices using `row` and `col`:  "
   ]
  },
  {
   "cell_type": "code",
   "execution_count": null,
   "metadata": {
    "collapsed": false,
    "deletable": true,
    "editable": true,
    "jupyter": {
     "outputs_hidden": false
    }
   },
   "outputs": [],
   "source": [
    "myColumnCOO.row"
   ]
  },
  {
   "cell_type": "markdown",
   "metadata": {
    "deletable": true,
    "editable": true
   },
   "source": [
    "2) Get the activity code for each element using the **reverse** product dictionary we produced above:"
   ]
  },
  {
   "cell_type": "code",
   "execution_count": null,
   "metadata": {
    "collapsed": false,
    "deletable": true,
    "editable": true,
    "jupyter": {
     "outputs_hidden": false
    }
   },
   "outputs": [],
   "source": [
    "# Using a list comprehension:\n",
    "[rev_prod_dict[i] for i in myColumnCOO.row]"
   ]
  },
  {
   "cell_type": "markdown",
   "metadata": {
    "deletable": true,
    "editable": true
   },
   "source": [
    "It would be even nicer to get the names for these:"
   ]
  },
  {
   "cell_type": "code",
   "execution_count": null,
   "metadata": {
    "collapsed": false,
    "deletable": true,
    "editable": true,
    "jupyter": {
     "outputs_hidden": false
    }
   },
   "outputs": [],
   "source": [
    "names_of_my_inputs = [bw2data.get_activity(rev_prod_dict[i])['name'] for i in myColumnCOO.row]\n",
    "names_of_my_inputs"
   ]
  },
  {
   "cell_type": "markdown",
   "metadata": {
    "deletable": true,
    "editable": true
   },
   "source": [
    "We can put these in a neat Pandas Series, with actual names and amounts:"
   ]
  },
  {
   "cell_type": "code",
   "execution_count": null,
   "metadata": {
    "collapsed": false,
    "deletable": true,
    "editable": true,
    "jupyter": {
     "outputs_hidden": false
    }
   },
   "outputs": [],
   "source": [
    "# First create a dict with the information I want:\n",
    "myColumnAsDict = dict(zip(names_of_my_inputs, myColumnCOO.data))\n",
    "# Create Pandas Series from dict\n",
    "pd.Series(myColumnAsDict, name=\"Nice series with information on exchanges in my foreground process\")"
   ]
  },
  {
   "cell_type": "markdown",
   "metadata": {
    "deletable": true,
    "editable": true,
    "solution": "shown",
    "solution_first": true
   },
   "source": [
    "Alternative way to generate similar information without even looking at the matrices:"
   ]
  },
  {
   "cell_type": "code",
   "execution_count": null,
   "metadata": {
    "collapsed": false,
    "deletable": true,
    "editable": true,
    "jupyter": {
     "outputs_hidden": false
    },
    "solution": "shown"
   },
   "outputs": [],
   "source": [
    "pd.Series({bw2data.get_activity(exc.input)['name']:exc.amount for exc in random_act.technosphere()}, \n",
    "          name=\"alternative way to generate exchanges\")"
   ]
  },
  {
   "cell_type": "markdown",
   "metadata": {
    "deletable": true,
    "editable": true,
    "solution": "shown"
   },
   "source": [
    "Note the differences:  \n",
    "  - The reference flow is not there (activity.technosphere() only returns technoshere exchanges where the input is not equal to the output)  \n",
    "  - The values are positive, not negative (because the $A$ matrix is $I-Z$ where $Z$ contains the information on these inputs."
   ]
  },
  {
   "cell_type": "markdown",
   "metadata": {
    "deletable": true,
    "editable": true,
    "solution": "shown",
    "solution2": "shown",
    "solution2_first": true
   },
   "source": [
    "**Exercise**: Create a Pandas Series with the elementary flows of the activity supplying the reference flow for myFirstLCA."
   ]
  },
  {
   "cell_type": "code",
   "execution_count": null,
   "metadata": {
    "collapsed": false,
    "deletable": true,
    "editable": true,
    "jupyter": {
     "outputs_hidden": false
    },
    "solution2": "shown"
   },
   "outputs": [],
   "source": [
    "# Solution\n",
    "myBioColumn = myFirstLCA.biosphere_matrix[:, col_index]\n",
    "myBioValues = myBioColumn.tocoo().data\n",
    "myBioNames = [bw2data.get_activity(rev_bio_dict[row])['name'] for row in myBioColumn.tocoo().row]\n",
    "pd.Series(dict(zip(myBioNames, myBioValues)))"
   ]
  },
  {
   "cell_type": "markdown",
   "metadata": {
    "deletable": true,
    "editable": true
   },
   "source": [
    "### 2.5) Solution to the inventory calculation"
   ]
  },
  {
   "cell_type": "markdown",
   "metadata": {
    "deletable": true,
    "editable": true
   },
   "source": [
    "We saw above how `.lci()` produced the $A$ and $B$ matrices.  \n",
    "`.lci()` also *solves* the equation $As=f$ and calculated the inventory by multiplying the solution to this equation by the biosphere matrix.  "
   ]
  },
  {
   "cell_type": "markdown",
   "metadata": {
    "deletable": true,
    "editable": true
   },
   "source": [
    "#### Supply array"
   ]
  },
  {
   "cell_type": "markdown",
   "metadata": {
    "deletable": true,
    "editable": true
   },
   "source": [
    "Vector containing the amount each activity will need to provide to meet the functional demand, i.e. $s=A^{-1}f$."
   ]
  },
  {
   "cell_type": "code",
   "execution_count": null,
   "metadata": {
    "collapsed": false,
    "deletable": true,
    "editable": true,
    "jupyter": {
     "outputs_hidden": false
    }
   },
   "outputs": [],
   "source": [
    "myFirstLCA.supply_array"
   ]
  },
  {
   "cell_type": "code",
   "execution_count": null,
   "metadata": {
    "collapsed": false,
    "deletable": true,
    "editable": true,
    "jupyter": {
     "outputs_hidden": false
    }
   },
   "outputs": [],
   "source": [
    "myFirstLCA.supply_array.shape"
   ]
  },
  {
   "cell_type": "markdown",
   "metadata": {
    "deletable": true,
    "editable": true
   },
   "source": [
    "**Inventory matrix**  \n",
    "Contains the inventory *by activity* (i.e. not summed). In other words, we do not have $g=BA^{-1}f$, but rather $G=B \\cdot diag(A^{-1}f)$"
   ]
  },
  {
   "cell_type": "code",
   "execution_count": null,
   "metadata": {
    "collapsed": false,
    "deletable": true,
    "editable": true,
    "jupyter": {
     "outputs_hidden": false
    }
   },
   "outputs": [],
   "source": [
    "myFirstLCA.inventory"
   ]
  },
  {
   "cell_type": "markdown",
   "metadata": {
    "deletable": true,
    "editable": true
   },
   "source": [
    "We can aggregate the LCI results along the columns (i.e. calculate the cradle-to-gate inventory):"
   ]
  },
  {
   "cell_type": "code",
   "execution_count": null,
   "metadata": {
    "collapsed": false,
    "deletable": true,
    "editable": true,
    "jupyter": {
     "outputs_hidden": false
    }
   },
   "outputs": [],
   "source": [
    "LCI_cradle_to_gate = myFirstLCA.inventory.sum(axis=1)\n",
    "LCI_cradle_to_gate.shape"
   ]
  },
  {
   "cell_type": "markdown",
   "metadata": {
    "deletable": true,
    "editable": true,
    "solution2": "shown",
    "solution2_first": true
   },
   "source": [
    "**Exercise:** Get the total (cradle-to-gate) emissions of nitrous oxide emitted to air in the \"urban air\" subcompartment."
   ]
  },
  {
   "cell_type": "code",
   "execution_count": null,
   "metadata": {
    "collapsed": false,
    "deletable": true,
    "editable": true,
    "jupyter": {
     "outputs_hidden": false
    },
    "solution2": "shown"
   },
   "outputs": [],
   "source": [
    "N2O_act = [act for act in my_bio if 'Dinitrogen monoxide' in act['name']\n",
    "                       and 'urban air close to ground' in str(act['categories'])\n",
    "         ][0]\n",
    "print(N2O_act.key)\n",
    "key=N2O_act.key"
   ]
  },
  {
   "cell_type": "code",
   "execution_count": null,
   "metadata": {
    "collapsed": false,
    "deletable": true,
    "editable": true,
    "jupyter": {
     "outputs_hidden": false
    },
    "solution2": "shown"
   },
   "outputs": [],
   "source": [
    "N2O_act = myFirstLCA.biosphere_dict[key]\n",
    "N2O_act"
   ]
  },
  {
   "cell_type": "code",
   "execution_count": null,
   "metadata": {
    "collapsed": false,
    "deletable": true,
    "editable": true,
    "jupyter": {
     "outputs_hidden": false
    },
    "solution2": "shown"
   },
   "outputs": [],
   "source": [
    "myFirstLCA.inventory[N2O_act, :].sum()"
   ]
  },
  {
   "cell_type": "markdown",
   "metadata": {
    "deletable": true,
    "editable": true
   },
   "source": [
    "### 2.7) LCIA"
   ]
  },
  {
   "cell_type": "markdown",
   "metadata": {
    "deletable": true,
    "editable": true
   },
   "source": [
    "The LCIA calculation is done via the `.lcia()` method."
   ]
  },
  {
   "cell_type": "code",
   "execution_count": null,
   "metadata": {
    "deletable": true,
    "editable": true,
    "tags": []
   },
   "outputs": [],
   "source": [
    "myFirstLCA.lcia()"
   ]
  },
  {
   "cell_type": "markdown",
   "metadata": {
    "deletable": true,
    "editable": true
   },
   "source": [
    "A number of other matrices are now available:"
   ]
  },
  {
   "cell_type": "code",
   "execution_count": null,
   "metadata": {
    "collapsed": false,
    "deletable": true,
    "editable": true,
    "jupyter": {
     "outputs_hidden": false
    }
   },
   "outputs": [],
   "source": [
    "# Matrix of characterization factors:\n",
    "myFirstLCA.characterization_matrix"
   ]
  },
  {
   "cell_type": "code",
   "execution_count": null,
   "metadata": {
    "collapsed": false,
    "deletable": true,
    "editable": true,
    "jupyter": {
     "outputs_hidden": false
    }
   },
   "outputs": [],
   "source": [
    "myFirstLCA.characterization_matrix.shape"
   ]
  },
  {
   "cell_type": "code",
   "execution_count": null,
   "metadata": {
    "collapsed": false,
    "deletable": true,
    "editable": true,
    "jupyter": {
     "outputs_hidden": false
    }
   },
   "outputs": [],
   "source": [
    "# Matrix of characterized inventory flows\n",
    "myFirstLCA.characterized_inventory"
   ]
  },
  {
   "cell_type": "markdown",
   "metadata": {
    "deletable": true,
    "editable": true
   },
   "source": [
    "The overall score is now an attribute of the LCA object: "
   ]
  },
  {
   "cell_type": "code",
   "execution_count": null,
   "metadata": {
    "collapsed": false,
    "deletable": true,
    "editable": true,
    "jupyter": {
     "outputs_hidden": false
    }
   },
   "outputs": [],
   "source": [
    "myFirstLCA.score"
   ]
  },
  {
   "cell_type": "markdown",
   "metadata": {
    "deletable": true,
    "editable": true
   },
   "source": [
    "We also could have determined what this score was by summing the elements of our `characterized_inventory` matrix:"
   ]
  },
  {
   "cell_type": "code",
   "execution_count": null,
   "metadata": {
    "collapsed": false,
    "deletable": true,
    "editable": true,
    "jupyter": {
     "outputs_hidden": false
    }
   },
   "outputs": [],
   "source": [
    "myFirstLCA.characterized_inventory.sum()"
   ]
  },
  {
   "cell_type": "markdown",
   "metadata": {
    "deletable": true,
    "editable": true
   },
   "source": [
    "We could also have calculated it by multiplying the inventory and characterization factors ourselves:"
   ]
  },
  {
   "cell_type": "code",
   "execution_count": null,
   "metadata": {
    "collapsed": false,
    "deletable": true,
    "editable": true,
    "jupyter": {
     "outputs_hidden": false
    }
   },
   "outputs": [],
   "source": [
    "(myFirstLCA.characterization_matrix * myFirstLCA.inventory).sum()"
   ]
  },
  {
   "cell_type": "markdown",
   "metadata": {
    "deletable": true,
    "editable": true
   },
   "source": [
    "We could also calculate the score by elementary flow (summing columns for each rows), irrespective of the unit process that produced it:"
   ]
  },
  {
   "cell_type": "code",
   "execution_count": null,
   "metadata": {
    "deletable": true,
    "editable": true,
    "tags": []
   },
   "outputs": [],
   "source": [
    "#Axis is the dimension I want to sum over\n",
    "elementary_flow_contribution = myFirstLCA.characterized_inventory.sum(axis=1) "
   ]
  },
  {
   "cell_type": "code",
   "execution_count": null,
   "metadata": {
    "collapsed": false,
    "deletable": true,
    "editable": true,
    "jupyter": {
     "outputs_hidden": false
    }
   },
   "outputs": [],
   "source": [
    "elementary_flow_contribution.shape"
   ]
  },
  {
   "cell_type": "markdown",
   "metadata": {
    "deletable": true,
    "editable": true
   },
   "source": [
    "Notice that is has **two** dimensions. The result is in fact a one-dimensional matrix:"
   ]
  },
  {
   "cell_type": "code",
   "execution_count": null,
   "metadata": {
    "collapsed": false,
    "deletable": true,
    "editable": true,
    "jupyter": {
     "outputs_hidden": false
    }
   },
   "outputs": [],
   "source": [
    "type(elementary_flow_contribution)"
   ]
  },
  {
   "cell_type": "markdown",
   "metadata": {
    "deletable": true,
    "editable": true
   },
   "source": [
    "To convert it to an array (probably more useful for many purposes), you can use any of the following approaches:"
   ]
  },
  {
   "cell_type": "code",
   "execution_count": null,
   "metadata": {
    "collapsed": false,
    "deletable": true,
    "editable": true,
    "jupyter": {
     "outputs_hidden": false
    }
   },
   "outputs": [],
   "source": [
    "elementary_flow_contribution.A1 \n",
    "#np.squeeze(np.asarray(elementary_flow_contribution))\n",
    "#np.asarray(elementary_flow_contribution).reshape(-1)\n",
    "#np.array(elementary_flow_contribution).flatten()\n",
    "#np.array(elementary_flow_contribution).ravel()"
   ]
  },
  {
   "cell_type": "markdown",
   "metadata": {
    "deletable": true,
    "editable": true,
    "solution2": "shown",
    "solution2_first": true
   },
   "source": [
    "**Exercise:** Create a Pandas series that has the scores per unit process, sorted by value (contribution analysis)"
   ]
  },
  {
   "cell_type": "code",
   "execution_count": null,
   "metadata": {
    "tags": []
   },
   "outputs": [],
   "source": [
    "# Create array with the results per column (i.e. per activity)\n",
    "results_by_activity = (myFirstLCA.characterized_inventory.sum(axis=0)).A1"
   ]
  },
  {
   "cell_type": "code",
   "execution_count": null,
   "metadata": {
    "collapsed": false,
    "jupyter": {
     "outputs_hidden": false
    }
   },
   "outputs": [],
   "source": [
    "# Create a list of names in columns\n",
    "list_of_names_in_columns = [\n",
    "    bw2data.get_activity(rev_act_dict[col])['name'] \n",
    "    for col in range(myFirstLCA.characterized_inventory.shape[1])\n",
    "]"
   ]
  },
  {
   "cell_type": "code",
   "execution_count": null,
   "metadata": {
    "collapsed": false,
    "jupyter": {
     "outputs_hidden": false
    }
   },
   "outputs": [],
   "source": [
    "pd.Series(index=list_of_names_in_columns, data=results_by_activity).sort_values(ascending=False).head(20)"
   ]
  },
  {
   "cell_type": "code",
   "execution_count": null,
   "metadata": {},
   "outputs": [],
   "source": [
    "results_by_flows = (myFirstLCA.characterized_inventory.sum(axis=1)).A1"
   ]
  },
  {
   "cell_type": "code",
   "execution_count": null,
   "metadata": {},
   "outputs": [],
   "source": [
    "# Create a list of names in columns\n",
    "list_of_names_in_columns = [\n",
    "    bw2data.get_activity(rev_bio_dict[col])['name'] \n",
    "    for col in range(myFirstLCA.characterized_inventory.shape[0])\n",
    "]"
   ]
  },
  {
   "cell_type": "code",
   "execution_count": null,
   "metadata": {},
   "outputs": [],
   "source": [
    "pd.Series(index=list_of_names_in_columns, data=results_by_flows).sort_values(ascending=False).head(20)"
   ]
  },
  {
   "cell_type": "markdown",
   "metadata": {
    "deletable": true,
    "editable": true
   },
   "source": [
    "## 3) My second LCA: Comparative LCA"
   ]
  },
  {
   "cell_type": "markdown",
   "metadata": {
    "deletable": true,
    "editable": true
   },
   "source": [
    "Let's choose two activities to compare, say Swiss electricity produced from respectively a run-of-river hydropower plant and a wind turbine."
   ]
  },
  {
   "cell_type": "markdown",
   "metadata": {
    "deletable": true,
    "editable": true,
    "solution2": "shown",
    "solution2_first": true
   },
   "source": [
    "**Exercise**: assign the two activities to variables `hydro` and `wind` respectively."
   ]
  },
  {
   "cell_type": "code",
   "execution_count": null,
   "metadata": {
    "collapsed": false,
    "deletable": true,
    "editable": true,
    "jupyter": {
     "outputs_hidden": false
    },
    "solution2": "shown"
   },
   "outputs": [],
   "source": [
    "wind = [act for act in eidb if \"wind\" in act['name']\n",
    "        and \"<1MW\" in act['name'] \n",
    "        and \"kilowatt hour\" in act['unit']\n",
    "        and act[\"location\"] == \"DK\"\n",
    "       ][0]\n",
    "wind"
   ]
  },
  {
   "cell_type": "code",
   "execution_count": null,
   "metadata": {
    "collapsed": false,
    "deletable": true,
    "editable": true,
    "jupyter": {
     "outputs_hidden": false
    },
    "solution2": "shown"
   },
   "outputs": [],
   "source": [
    "hydro = [act for act in eidb if \"hydro\" in act['name'] \n",
    "                     and \"river\" in act['name'] \n",
    "                     and act['location'] == \"CH\"\n",
    "                     and act['unit'] == \"kilowatt hour\"\n",
    "                     ][1]\n",
    "hydro"
   ]
  },
  {
   "cell_type": "markdown",
   "metadata": {
    "deletable": true,
    "editable": true
   },
   "source": [
    "Let's also compare these according to their carbon footprint as measured with the IPCC method we already selected above:"
   ]
  },
  {
   "cell_type": "code",
   "execution_count": null,
   "metadata": {
    "collapsed": false,
    "deletable": true,
    "editable": true,
    "jupyter": {
     "outputs_hidden": false
    }
   },
   "outputs": [],
   "source": [
    "ipcc_2021_method"
   ]
  },
  {
   "cell_type": "markdown",
   "metadata": {
    "deletable": true,
    "editable": true
   },
   "source": [
    "#### One-at-a-time approach:"
   ]
  },
  {
   "cell_type": "code",
   "execution_count": null,
   "metadata": {
    "collapsed": false,
    "deletable": true,
    "editable": true,
    "jupyter": {
     "outputs_hidden": false
    }
   },
   "outputs": [],
   "source": [
    "hydroLCA = bw2calc.LCA({hydro:1}, ipcc_2021_method.name)\n",
    "hydroLCA.lci()\n",
    "hydroLCA.lcia()\n",
    "hydroLCA.score"
   ]
  },
  {
   "cell_type": "markdown",
   "metadata": {
    "deletable": true,
    "editable": true,
    "solution2": "shown",
    "solution2_first": true
   },
   "source": [
    "**Exercise:** Do the LCA for `wind`:"
   ]
  },
  {
   "cell_type": "code",
   "execution_count": null,
   "metadata": {
    "collapsed": false,
    "deletable": true,
    "editable": true,
    "jupyter": {
     "outputs_hidden": false
    },
    "solution2": "shown"
   },
   "outputs": [],
   "source": [
    "windLCA = bw2calc.LCA({wind:1}, ipcc_2021_method.name)\n",
    "windLCA.lci()\n",
    "windLCA.lcia()\n",
    "windLCA.score"
   ]
  },
  {
   "cell_type": "code",
   "execution_count": null,
   "metadata": {
    "collapsed": false,
    "deletable": true,
    "editable": true,
    "jupyter": {
     "outputs_hidden": false
    }
   },
   "outputs": [],
   "source": [
    "#Compare results:\n",
    "if windLCA.score > hydroLCA.score:\n",
    "    print(\"Hydro is preferable\")\n",
    "elif windLCA.score < hydroLCA.score:\n",
    "    print(\"Wind is preferable\")\n",
    "else:\n",
    "    print(\"Both options have the same climate change indicator result\")"
   ]
  },
  {
   "cell_type": "markdown",
   "metadata": {
    "deletable": true,
    "editable": true
   },
   "source": [
    "Do one \"delta\" LCA:"
   ]
  },
  {
   "cell_type": "code",
   "execution_count": null,
   "metadata": {
    "collapsed": false,
    "deletable": true,
    "editable": true,
    "jupyter": {
     "outputs_hidden": false
    }
   },
   "outputs": [],
   "source": [
    "deltaLCA = bw2calc.LCA({wind:1, hydro:-1}, ipcc_2021_method.name)\n",
    "deltaLCA.lci()\n",
    "deltaLCA.lcia()\n",
    "deltaLCA.score"
   ]
  },
  {
   "cell_type": "code",
   "execution_count": null,
   "metadata": {
    "collapsed": false,
    "deletable": true,
    "editable": true,
    "jupyter": {
     "outputs_hidden": false
    }
   },
   "outputs": [],
   "source": [
    "if deltaLCA.score>0:\n",
    "    print(\"Hydro is preferable\")\n",
    "elif deltaLCA.score<0:\n",
    "    print(\"Wind is preferable\")\n",
    "else:\n",
    "    print(\"Both options have the same climate change indicator result\")"
   ]
  },
  {
   "cell_type": "markdown",
   "metadata": {
    "deletable": true,
    "editable": true
   },
   "source": [
    "## 4) My third LCA - Multiple impact categories"
   ]
  },
  {
   "cell_type": "markdown",
   "metadata": {
    "deletable": true,
    "editable": true
   },
   "source": [
    "Say we want to evaluate the indicator results for our randomAct for all EF v3 categories (with long-term emissions)."
   ]
  },
  {
   "cell_type": "code",
   "execution_count": null,
   "metadata": {
    "collapsed": false,
    "deletable": true,
    "editable": true,
    "jupyter": {
     "outputs_hidden": false
    }
   },
   "outputs": [],
   "source": [
    "# Make a list of all impact method names (tuples):\n",
    "EFV3 = [\n",
    "    method for method in bw2data.methods if \"EF v3.1\" in str(method) \n",
    "        and \"no LT\" not in str(method)\n",
    "        and \"EN15804\" not in str(method)][:8]\n",
    "EFV3"
   ]
  },
  {
   "cell_type": "markdown",
   "metadata": {
    "deletable": true,
    "editable": true
   },
   "source": [
    "Simplest way: for loop, using `switch method`"
   ]
  },
  {
   "cell_type": "code",
   "execution_count": null,
   "metadata": {
    "collapsed": false,
    "deletable": true,
    "editable": true,
    "jupyter": {
     "outputs_hidden": false
    }
   },
   "outputs": [],
   "source": [
    "def get_lcia_scores(products, categories, results):\n",
    "    lca = bw2calc.LCA({products[0]: 1}, categories[0])\n",
    "    lca.lci()\n",
    "    lca.lcia()\n",
    "    \n",
    "    method_matrices = [lca.characterization_matrix.copy()]\n",
    "    \n",
    "    for other_method in categories[1:]:\n",
    "        # Only build each characterization matrix once instead of once per product\n",
    "        lca.switch_method(other_method)\n",
    "        method_matrices.append(lca.characterization_matrix.copy())\n",
    "    \n",
    "    for i, product in enumerate(products):\n",
    "        print(product)\n",
    "        lca.redo_lci({product: 1})\n",
    "        for j, characterization_matrix in enumerate(method_matrices):\n",
    "            results[i, j] = (characterization_matrix * lca.inventory).sum()\n",
    "    \n",
    "    return results\n",
    "\n",
    "results = np.zeros((2, len(EFV3)))\n",
    "results = get_lcia_scores([hydro, wind], EFV3, results)\n",
    "results"
   ]
  },
  {
   "cell_type": "code",
   "execution_count": null,
   "metadata": {},
   "outputs": [],
   "source": [
    "for activity in [hydro, wind]:\n",
    "    for method in EFV3:\n",
    "        lca = bw2calc.LCA({activity:1}, method)\n",
    "        lca.lci()\n",
    "        lca.lcia()\n",
    "        print(activity, method, lca.score)"
   ]
  },
  {
   "cell_type": "code",
   "execution_count": null,
   "metadata": {
    "collapsed": false,
    "deletable": true,
    "editable": true,
    "jupyter": {
     "outputs_hidden": false
    }
   },
   "outputs": [],
   "source": [
    "df = pd.DataFrame(columns=[e[1] for e in EFV3], index=[hydro['name'][:32], wind['name'][:30], ], data=results)\n",
    "df"
   ]
  },
  {
   "cell_type": "code",
   "execution_count": null,
   "metadata": {},
   "outputs": [],
   "source": [
    "df.div(df.iloc[0], axis=1).plot(kind=\"bar\")"
   ]
  },
  {
   "cell_type": "markdown",
   "metadata": {},
   "source": [
    "## Uncertainty"
   ]
  },
  {
   "cell_type": "markdown",
   "metadata": {},
   "source": [
    "Values of exchanges in datasets may come with uncertainty.\n",
    "See [documentation](https://stats-arrays.readthedocs.io/en/latest/) of `stats_array`.\n",
    "\n",
    "Let's find out how uncertainty is defined in ecoinvent:"
   ]
  },
  {
   "cell_type": "code",
   "execution_count": null,
   "metadata": {},
   "outputs": [],
   "source": [
    "act = eidb.random()\n",
    "for e in act.technosphere():\n",
    "    pprint(e.as_dict())\n",
    "    print(e.uncertainty_type)\n",
    "    print(e.uncertainty)\n",
    "    break\n",
    "    "
   ]
  },
  {
   "cell_type": "markdown",
   "metadata": {},
   "source": [
    "### Running a stochastic analysis (Monte Carlo)"
   ]
  },
  {
   "cell_type": "code",
   "execution_count": null,
   "metadata": {},
   "outputs": [],
   "source": [
    "iterations = 10\n",
    "results = np.zeros((2, iterations))"
   ]
  },
  {
   "cell_type": "code",
   "execution_count": null,
   "metadata": {},
   "outputs": [],
   "source": [
    "results"
   ]
  },
  {
   "cell_type": "code",
   "execution_count": null,
   "metadata": {},
   "outputs": [],
   "source": [
    "EFV3[1]"
   ]
  },
  {
   "cell_type": "code",
   "execution_count": null,
   "metadata": {},
   "outputs": [],
   "source": [
    "%%time\n",
    "\n",
    "for a, activity in enumerate([hydro, wind]):\n",
    "    lca = bw2calc.MonteCarloLCA(\n",
    "        demand={activity: 1},\n",
    "        method=EFV3[1],\n",
    "        seed=42\n",
    "    )\n",
    "    #lca.lci()\n",
    "    #lca.lcia()\n",
    "    \n",
    "    results[a] = [lca.score for _ in zip(range(iterations), lca)]\n"
   ]
  },
  {
   "cell_type": "code",
   "execution_count": null,
   "metadata": {},
   "outputs": [],
   "source": [
    "%%time\n",
    "\n",
    "\n",
    "lca = bw2calc.MonteCarloLCA(\n",
    "    demand={hydro: 1, wind: 1},\n",
    "    method=EFV3[1],\n",
    "    seed=42\n",
    ")\n",
    "#lca.lci()\n",
    "#lca.lcia()\n",
    "\n",
    "[lca.score for _ in zip(range(iterations), lca)]\n"
   ]
  },
  {
   "cell_type": "markdown",
   "metadata": {},
   "source": [
    "Let's visualize the results:"
   ]
  },
  {
   "cell_type": "code",
   "execution_count": null,
   "metadata": {},
   "outputs": [],
   "source": [
    "df = pd.DataFrame(results.T, columns=[\"Hydro\", \"Wind\"])\n",
    "df"
   ]
  },
  {
   "cell_type": "code",
   "execution_count": null,
   "metadata": {},
   "outputs": [],
   "source": [
    "df.boxplot()"
   ]
  },
  {
   "cell_type": "markdown",
   "metadata": {},
   "source": [
    "That's it for the time being.\n",
    "\n",
    "Additional resources to dig the topic deeper:\n",
    "* Exercises on [bw2calc and bw_processing](https://github.com/Depart-de-Sentier/Spring-School-2024/blob/main/class-materials/brightway-basics/2%20-%20Building%20and%20using%20matrices%20in%20bw2calc.ipynb)"
   ]
  },
  {
   "cell_type": "code",
   "execution_count": null,
   "metadata": {},
   "outputs": [],
   "source": []
  }
 ],
 "metadata": {
  "kernelspec": {
   "display_name": "Python 3 (ipykernel)",
   "language": "python",
   "name": "python3"
  },
  "language_info": {
   "codemirror_mode": {
    "name": "ipython",
    "version": 3
   },
   "file_extension": ".py",
   "mimetype": "text/x-python",
   "name": "python",
   "nbconvert_exporter": "python",
   "pygments_lexer": "ipython3",
   "version": "3.11.11"
  },
  "widgets": {
   "state": {},
   "version": "1.1.2"
  }
 },
 "nbformat": 4,
 "nbformat_minor": 4
}
